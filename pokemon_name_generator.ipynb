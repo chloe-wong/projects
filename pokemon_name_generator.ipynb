{
  "nbformat": 4,
  "nbformat_minor": 0,
  "metadata": {
    "colab": {
      "provenance": [],
      "include_colab_link": true
    },
    "kernelspec": {
      "name": "python3",
      "display_name": "Python 3"
    },
    "language_info": {
      "name": "python"
    },
    "gpuClass": "standard",
    "accelerator": "GPU"
  },
  "cells": [
    {
      "cell_type": "markdown",
      "metadata": {
        "id": "view-in-github",
        "colab_type": "text"
      },
      "source": [
        "<a href=\"https://colab.research.google.com/github/chloe-wong/projects/blob/main/pokemon_name_generator.ipynb\" target=\"_parent\"><img src=\"https://colab.research.google.com/assets/colab-badge.svg\" alt=\"Open In Colab\"/></a>"
      ]
    },
    {
      "cell_type": "code",
      "execution_count": null,
      "metadata": {
        "id": "nygeuNWIymB9",
        "colab": {
          "base_uri": "https://localhost:8080/"
        },
        "outputId": "5faf406c-b66b-42a5-ed7c-bdb06a3ac754"
      },
      "outputs": [
        {
          "output_type": "stream",
          "name": "stdout",
          "text": [
            "cuda:0\n"
          ]
        }
      ],
      "source": [
        "import torch\n",
        "import numpy as np\n",
        "import torch.nn as nn\n",
        "import torch.nn.functional as F\n",
        "from torch.autograd import Variable\n",
        "from sklearn.model_selection import train_test_split\n",
        "import requests\n",
        "\n",
        "device = \"cuda:0\" if torch.cuda.is_available() else \"cpu\"\n",
        "print (device)"
      ]
    },
    {
      "cell_type": "code",
      "source": [
        "#getting data\n",
        "\n",
        "result = requests.get(\"https://pokeapi.co/api/v2/pokemon/?limit=2000\").json()\n",
        "keys = result['results']\n",
        "nums = result['count']\n",
        "print(keys)\n",
        "names = [keys[x]['name'] for x in range(nums)]\n",
        "print(names)"
      ],
      "metadata": {
        "colab": {
          "base_uri": "https://localhost:8080/"
        },
        "id": "_Ay6iWAEz654",
        "outputId": "e27d66c6-bc65-4187-d071-c3efe308d1bf"
      },
      "execution_count": null,
      "outputs": [
        {
          "output_type": "stream",
          "name": "stdout",
          "text": [
            "[{'name': 'bulbasaur', 'url': 'https://pokeapi.co/api/v2/pokemon/1/'}, {'name': 'ivysaur', 'url': 'https://pokeapi.co/api/v2/pokemon/2/'}, {'name': 'venusaur', 'url': 'https://pokeapi.co/api/v2/pokemon/3/'}, {'name': 'charmander', 'url': 'https://pokeapi.co/api/v2/pokemon/4/'}, {'name': 'charmeleon', 'url': 'https://pokeapi.co/api/v2/pokemon/5/'}, {'name': 'charizard', 'url': 'https://pokeapi.co/api/v2/pokemon/6/'}, {'name': 'squirtle', 'url': 'https://pokeapi.co/api/v2/pokemon/7/'}, {'name': 'wartortle', 'url': 'https://pokeapi.co/api/v2/pokemon/8/'}, {'name': 'blastoise', 'url': 'https://pokeapi.co/api/v2/pokemon/9/'}, {'name': 'caterpie', 'url': 'https://pokeapi.co/api/v2/pokemon/10/'}, {'name': 'metapod', 'url': 'https://pokeapi.co/api/v2/pokemon/11/'}, {'name': 'butterfree', 'url': 'https://pokeapi.co/api/v2/pokemon/12/'}, {'name': 'weedle', 'url': 'https://pokeapi.co/api/v2/pokemon/13/'}, {'name': 'kakuna', 'url': 'https://pokeapi.co/api/v2/pokemon/14/'}, {'name': 'beedrill', 'url': 'https://pokeapi.co/api/v2/pokemon/15/'}, {'name': 'pidgey', 'url': 'https://pokeapi.co/api/v2/pokemon/16/'}, {'name': 'pidgeotto', 'url': 'https://pokeapi.co/api/v2/pokemon/17/'}, {'name': 'pidgeot', 'url': 'https://pokeapi.co/api/v2/pokemon/18/'}, {'name': 'rattata', 'url': 'https://pokeapi.co/api/v2/pokemon/19/'}, {'name': 'raticate', 'url': 'https://pokeapi.co/api/v2/pokemon/20/'}, {'name': 'spearow', 'url': 'https://pokeapi.co/api/v2/pokemon/21/'}, {'name': 'fearow', 'url': 'https://pokeapi.co/api/v2/pokemon/22/'}, {'name': 'ekans', 'url': 'https://pokeapi.co/api/v2/pokemon/23/'}, {'name': 'arbok', 'url': 'https://pokeapi.co/api/v2/pokemon/24/'}, {'name': 'pikachu', 'url': 'https://pokeapi.co/api/v2/pokemon/25/'}, {'name': 'raichu', 'url': 'https://pokeapi.co/api/v2/pokemon/26/'}, {'name': 'sandshrew', 'url': 'https://pokeapi.co/api/v2/pokemon/27/'}, {'name': 'sandslash', 'url': 'https://pokeapi.co/api/v2/pokemon/28/'}, {'name': 'nidoran-f', 'url': 'https://pokeapi.co/api/v2/pokemon/29/'}, {'name': 'nidorina', 'url': 'https://pokeapi.co/api/v2/pokemon/30/'}, {'name': 'nidoqueen', 'url': 'https://pokeapi.co/api/v2/pokemon/31/'}, {'name': 'nidoran-m', 'url': 'https://pokeapi.co/api/v2/pokemon/32/'}, {'name': 'nidorino', 'url': 'https://pokeapi.co/api/v2/pokemon/33/'}, {'name': 'nidoking', 'url': 'https://pokeapi.co/api/v2/pokemon/34/'}, {'name': 'clefairy', 'url': 'https://pokeapi.co/api/v2/pokemon/35/'}, {'name': 'clefable', 'url': 'https://pokeapi.co/api/v2/pokemon/36/'}, {'name': 'vulpix', 'url': 'https://pokeapi.co/api/v2/pokemon/37/'}, {'name': 'ninetales', 'url': 'https://pokeapi.co/api/v2/pokemon/38/'}, {'name': 'jigglypuff', 'url': 'https://pokeapi.co/api/v2/pokemon/39/'}, {'name': 'wigglytuff', 'url': 'https://pokeapi.co/api/v2/pokemon/40/'}, {'name': 'zubat', 'url': 'https://pokeapi.co/api/v2/pokemon/41/'}, {'name': 'golbat', 'url': 'https://pokeapi.co/api/v2/pokemon/42/'}, {'name': 'oddish', 'url': 'https://pokeapi.co/api/v2/pokemon/43/'}, {'name': 'gloom', 'url': 'https://pokeapi.co/api/v2/pokemon/44/'}, {'name': 'vileplume', 'url': 'https://pokeapi.co/api/v2/pokemon/45/'}, {'name': 'paras', 'url': 'https://pokeapi.co/api/v2/pokemon/46/'}, {'name': 'parasect', 'url': 'https://pokeapi.co/api/v2/pokemon/47/'}, {'name': 'venonat', 'url': 'https://pokeapi.co/api/v2/pokemon/48/'}, {'name': 'venomoth', 'url': 'https://pokeapi.co/api/v2/pokemon/49/'}, {'name': 'diglett', 'url': 'https://pokeapi.co/api/v2/pokemon/50/'}, {'name': 'dugtrio', 'url': 'https://pokeapi.co/api/v2/pokemon/51/'}, {'name': 'meowth', 'url': 'https://pokeapi.co/api/v2/pokemon/52/'}, {'name': 'persian', 'url': 'https://pokeapi.co/api/v2/pokemon/53/'}, {'name': 'psyduck', 'url': 'https://pokeapi.co/api/v2/pokemon/54/'}, {'name': 'golduck', 'url': 'https://pokeapi.co/api/v2/pokemon/55/'}, {'name': 'mankey', 'url': 'https://pokeapi.co/api/v2/pokemon/56/'}, {'name': 'primeape', 'url': 'https://pokeapi.co/api/v2/pokemon/57/'}, {'name': 'growlithe', 'url': 'https://pokeapi.co/api/v2/pokemon/58/'}, {'name': 'arcanine', 'url': 'https://pokeapi.co/api/v2/pokemon/59/'}, {'name': 'poliwag', 'url': 'https://pokeapi.co/api/v2/pokemon/60/'}, {'name': 'poliwhirl', 'url': 'https://pokeapi.co/api/v2/pokemon/61/'}, {'name': 'poliwrath', 'url': 'https://pokeapi.co/api/v2/pokemon/62/'}, {'name': 'abra', 'url': 'https://pokeapi.co/api/v2/pokemon/63/'}, {'name': 'kadabra', 'url': 'https://pokeapi.co/api/v2/pokemon/64/'}, {'name': 'alakazam', 'url': 'https://pokeapi.co/api/v2/pokemon/65/'}, {'name': 'machop', 'url': 'https://pokeapi.co/api/v2/pokemon/66/'}, {'name': 'machoke', 'url': 'https://pokeapi.co/api/v2/pokemon/67/'}, {'name': 'machamp', 'url': 'https://pokeapi.co/api/v2/pokemon/68/'}, {'name': 'bellsprout', 'url': 'https://pokeapi.co/api/v2/pokemon/69/'}, {'name': 'weepinbell', 'url': 'https://pokeapi.co/api/v2/pokemon/70/'}, {'name': 'victreebel', 'url': 'https://pokeapi.co/api/v2/pokemon/71/'}, {'name': 'tentacool', 'url': 'https://pokeapi.co/api/v2/pokemon/72/'}, {'name': 'tentacruel', 'url': 'https://pokeapi.co/api/v2/pokemon/73/'}, {'name': 'geodude', 'url': 'https://pokeapi.co/api/v2/pokemon/74/'}, {'name': 'graveler', 'url': 'https://pokeapi.co/api/v2/pokemon/75/'}, {'name': 'golem', 'url': 'https://pokeapi.co/api/v2/pokemon/76/'}, {'name': 'ponyta', 'url': 'https://pokeapi.co/api/v2/pokemon/77/'}, {'name': 'rapidash', 'url': 'https://pokeapi.co/api/v2/pokemon/78/'}, {'name': 'slowpoke', 'url': 'https://pokeapi.co/api/v2/pokemon/79/'}, {'name': 'slowbro', 'url': 'https://pokeapi.co/api/v2/pokemon/80/'}, {'name': 'magnemite', 'url': 'https://pokeapi.co/api/v2/pokemon/81/'}, {'name': 'magneton', 'url': 'https://pokeapi.co/api/v2/pokemon/82/'}, {'name': 'farfetchd', 'url': 'https://pokeapi.co/api/v2/pokemon/83/'}, {'name': 'doduo', 'url': 'https://pokeapi.co/api/v2/pokemon/84/'}, {'name': 'dodrio', 'url': 'https://pokeapi.co/api/v2/pokemon/85/'}, {'name': 'seel', 'url': 'https://pokeapi.co/api/v2/pokemon/86/'}, {'name': 'dewgong', 'url': 'https://pokeapi.co/api/v2/pokemon/87/'}, {'name': 'grimer', 'url': 'https://pokeapi.co/api/v2/pokemon/88/'}, {'name': 'muk', 'url': 'https://pokeapi.co/api/v2/pokemon/89/'}, {'name': 'shellder', 'url': 'https://pokeapi.co/api/v2/pokemon/90/'}, {'name': 'cloyster', 'url': 'https://pokeapi.co/api/v2/pokemon/91/'}, {'name': 'gastly', 'url': 'https://pokeapi.co/api/v2/pokemon/92/'}, {'name': 'haunter', 'url': 'https://pokeapi.co/api/v2/pokemon/93/'}, {'name': 'gengar', 'url': 'https://pokeapi.co/api/v2/pokemon/94/'}, {'name': 'onix', 'url': 'https://pokeapi.co/api/v2/pokemon/95/'}, {'name': 'drowzee', 'url': 'https://pokeapi.co/api/v2/pokemon/96/'}, {'name': 'hypno', 'url': 'https://pokeapi.co/api/v2/pokemon/97/'}, {'name': 'krabby', 'url': 'https://pokeapi.co/api/v2/pokemon/98/'}, {'name': 'kingler', 'url': 'https://pokeapi.co/api/v2/pokemon/99/'}, {'name': 'voltorb', 'url': 'https://pokeapi.co/api/v2/pokemon/100/'}, {'name': 'electrode', 'url': 'https://pokeapi.co/api/v2/pokemon/101/'}, {'name': 'exeggcute', 'url': 'https://pokeapi.co/api/v2/pokemon/102/'}, {'name': 'exeggutor', 'url': 'https://pokeapi.co/api/v2/pokemon/103/'}, {'name': 'cubone', 'url': 'https://pokeapi.co/api/v2/pokemon/104/'}, {'name': 'marowak', 'url': 'https://pokeapi.co/api/v2/pokemon/105/'}, {'name': 'hitmonlee', 'url': 'https://pokeapi.co/api/v2/pokemon/106/'}, {'name': 'hitmonchan', 'url': 'https://pokeapi.co/api/v2/pokemon/107/'}, {'name': 'lickitung', 'url': 'https://pokeapi.co/api/v2/pokemon/108/'}, {'name': 'koffing', 'url': 'https://pokeapi.co/api/v2/pokemon/109/'}, {'name': 'weezing', 'url': 'https://pokeapi.co/api/v2/pokemon/110/'}, {'name': 'rhyhorn', 'url': 'https://pokeapi.co/api/v2/pokemon/111/'}, {'name': 'rhydon', 'url': 'https://pokeapi.co/api/v2/pokemon/112/'}, {'name': 'chansey', 'url': 'https://pokeapi.co/api/v2/pokemon/113/'}, {'name': 'tangela', 'url': 'https://pokeapi.co/api/v2/pokemon/114/'}, {'name': 'kangaskhan', 'url': 'https://pokeapi.co/api/v2/pokemon/115/'}, {'name': 'horsea', 'url': 'https://pokeapi.co/api/v2/pokemon/116/'}, {'name': 'seadra', 'url': 'https://pokeapi.co/api/v2/pokemon/117/'}, {'name': 'goldeen', 'url': 'https://pokeapi.co/api/v2/pokemon/118/'}, {'name': 'seaking', 'url': 'https://pokeapi.co/api/v2/pokemon/119/'}, {'name': 'staryu', 'url': 'https://pokeapi.co/api/v2/pokemon/120/'}, {'name': 'starmie', 'url': 'https://pokeapi.co/api/v2/pokemon/121/'}, {'name': 'mr-mime', 'url': 'https://pokeapi.co/api/v2/pokemon/122/'}, {'name': 'scyther', 'url': 'https://pokeapi.co/api/v2/pokemon/123/'}, {'name': 'jynx', 'url': 'https://pokeapi.co/api/v2/pokemon/124/'}, {'name': 'electabuzz', 'url': 'https://pokeapi.co/api/v2/pokemon/125/'}, {'name': 'magmar', 'url': 'https://pokeapi.co/api/v2/pokemon/126/'}, {'name': 'pinsir', 'url': 'https://pokeapi.co/api/v2/pokemon/127/'}, {'name': 'tauros', 'url': 'https://pokeapi.co/api/v2/pokemon/128/'}, {'name': 'magikarp', 'url': 'https://pokeapi.co/api/v2/pokemon/129/'}, {'name': 'gyarados', 'url': 'https://pokeapi.co/api/v2/pokemon/130/'}, {'name': 'lapras', 'url': 'https://pokeapi.co/api/v2/pokemon/131/'}, {'name': 'ditto', 'url': 'https://pokeapi.co/api/v2/pokemon/132/'}, {'name': 'eevee', 'url': 'https://pokeapi.co/api/v2/pokemon/133/'}, {'name': 'vaporeon', 'url': 'https://pokeapi.co/api/v2/pokemon/134/'}, {'name': 'jolteon', 'url': 'https://pokeapi.co/api/v2/pokemon/135/'}, {'name': 'flareon', 'url': 'https://pokeapi.co/api/v2/pokemon/136/'}, {'name': 'porygon', 'url': 'https://pokeapi.co/api/v2/pokemon/137/'}, {'name': 'omanyte', 'url': 'https://pokeapi.co/api/v2/pokemon/138/'}, {'name': 'omastar', 'url': 'https://pokeapi.co/api/v2/pokemon/139/'}, {'name': 'kabuto', 'url': 'https://pokeapi.co/api/v2/pokemon/140/'}, {'name': 'kabutops', 'url': 'https://pokeapi.co/api/v2/pokemon/141/'}, {'name': 'aerodactyl', 'url': 'https://pokeapi.co/api/v2/pokemon/142/'}, {'name': 'snorlax', 'url': 'https://pokeapi.co/api/v2/pokemon/143/'}, {'name': 'articuno', 'url': 'https://pokeapi.co/api/v2/pokemon/144/'}, {'name': 'zapdos', 'url': 'https://pokeapi.co/api/v2/pokemon/145/'}, {'name': 'moltres', 'url': 'https://pokeapi.co/api/v2/pokemon/146/'}, {'name': 'dratini', 'url': 'https://pokeapi.co/api/v2/pokemon/147/'}, {'name': 'dragonair', 'url': 'https://pokeapi.co/api/v2/pokemon/148/'}, {'name': 'dragonite', 'url': 'https://pokeapi.co/api/v2/pokemon/149/'}, {'name': 'mewtwo', 'url': 'https://pokeapi.co/api/v2/pokemon/150/'}, {'name': 'mew', 'url': 'https://pokeapi.co/api/v2/pokemon/151/'}, {'name': 'chikorita', 'url': 'https://pokeapi.co/api/v2/pokemon/152/'}, {'name': 'bayleef', 'url': 'https://pokeapi.co/api/v2/pokemon/153/'}, {'name': 'meganium', 'url': 'https://pokeapi.co/api/v2/pokemon/154/'}, {'name': 'cyndaquil', 'url': 'https://pokeapi.co/api/v2/pokemon/155/'}, {'name': 'quilava', 'url': 'https://pokeapi.co/api/v2/pokemon/156/'}, {'name': 'typhlosion', 'url': 'https://pokeapi.co/api/v2/pokemon/157/'}, {'name': 'totodile', 'url': 'https://pokeapi.co/api/v2/pokemon/158/'}, {'name': 'croconaw', 'url': 'https://pokeapi.co/api/v2/pokemon/159/'}, {'name': 'feraligatr', 'url': 'https://pokeapi.co/api/v2/pokemon/160/'}, {'name': 'sentret', 'url': 'https://pokeapi.co/api/v2/pokemon/161/'}, {'name': 'furret', 'url': 'https://pokeapi.co/api/v2/pokemon/162/'}, {'name': 'hoothoot', 'url': 'https://pokeapi.co/api/v2/pokemon/163/'}, {'name': 'noctowl', 'url': 'https://pokeapi.co/api/v2/pokemon/164/'}, {'name': 'ledyba', 'url': 'https://pokeapi.co/api/v2/pokemon/165/'}, {'name': 'ledian', 'url': 'https://pokeapi.co/api/v2/pokemon/166/'}, {'name': 'spinarak', 'url': 'https://pokeapi.co/api/v2/pokemon/167/'}, {'name': 'ariados', 'url': 'https://pokeapi.co/api/v2/pokemon/168/'}, {'name': 'crobat', 'url': 'https://pokeapi.co/api/v2/pokemon/169/'}, {'name': 'chinchou', 'url': 'https://pokeapi.co/api/v2/pokemon/170/'}, {'name': 'lanturn', 'url': 'https://pokeapi.co/api/v2/pokemon/171/'}, {'name': 'pichu', 'url': 'https://pokeapi.co/api/v2/pokemon/172/'}, {'name': 'cleffa', 'url': 'https://pokeapi.co/api/v2/pokemon/173/'}, {'name': 'igglybuff', 'url': 'https://pokeapi.co/api/v2/pokemon/174/'}, {'name': 'togepi', 'url': 'https://pokeapi.co/api/v2/pokemon/175/'}, {'name': 'togetic', 'url': 'https://pokeapi.co/api/v2/pokemon/176/'}, {'name': 'natu', 'url': 'https://pokeapi.co/api/v2/pokemon/177/'}, {'name': 'xatu', 'url': 'https://pokeapi.co/api/v2/pokemon/178/'}, {'name': 'mareep', 'url': 'https://pokeapi.co/api/v2/pokemon/179/'}, {'name': 'flaaffy', 'url': 'https://pokeapi.co/api/v2/pokemon/180/'}, {'name': 'ampharos', 'url': 'https://pokeapi.co/api/v2/pokemon/181/'}, {'name': 'bellossom', 'url': 'https://pokeapi.co/api/v2/pokemon/182/'}, {'name': 'marill', 'url': 'https://pokeapi.co/api/v2/pokemon/183/'}, {'name': 'azumarill', 'url': 'https://pokeapi.co/api/v2/pokemon/184/'}, {'name': 'sudowoodo', 'url': 'https://pokeapi.co/api/v2/pokemon/185/'}, {'name': 'politoed', 'url': 'https://pokeapi.co/api/v2/pokemon/186/'}, {'name': 'hoppip', 'url': 'https://pokeapi.co/api/v2/pokemon/187/'}, {'name': 'skiploom', 'url': 'https://pokeapi.co/api/v2/pokemon/188/'}, {'name': 'jumpluff', 'url': 'https://pokeapi.co/api/v2/pokemon/189/'}, {'name': 'aipom', 'url': 'https://pokeapi.co/api/v2/pokemon/190/'}, {'name': 'sunkern', 'url': 'https://pokeapi.co/api/v2/pokemon/191/'}, {'name': 'sunflora', 'url': 'https://pokeapi.co/api/v2/pokemon/192/'}, {'name': 'yanma', 'url': 'https://pokeapi.co/api/v2/pokemon/193/'}, {'name': 'wooper', 'url': 'https://pokeapi.co/api/v2/pokemon/194/'}, {'name': 'quagsire', 'url': 'https://pokeapi.co/api/v2/pokemon/195/'}, {'name': 'espeon', 'url': 'https://pokeapi.co/api/v2/pokemon/196/'}, {'name': 'umbreon', 'url': 'https://pokeapi.co/api/v2/pokemon/197/'}, {'name': 'murkrow', 'url': 'https://pokeapi.co/api/v2/pokemon/198/'}, {'name': 'slowking', 'url': 'https://pokeapi.co/api/v2/pokemon/199/'}, {'name': 'misdreavus', 'url': 'https://pokeapi.co/api/v2/pokemon/200/'}, {'name': 'unown', 'url': 'https://pokeapi.co/api/v2/pokemon/201/'}, {'name': 'wobbuffet', 'url': 'https://pokeapi.co/api/v2/pokemon/202/'}, {'name': 'girafarig', 'url': 'https://pokeapi.co/api/v2/pokemon/203/'}, {'name': 'pineco', 'url': 'https://pokeapi.co/api/v2/pokemon/204/'}, {'name': 'forretress', 'url': 'https://pokeapi.co/api/v2/pokemon/205/'}, {'name': 'dunsparce', 'url': 'https://pokeapi.co/api/v2/pokemon/206/'}, {'name': 'gligar', 'url': 'https://pokeapi.co/api/v2/pokemon/207/'}, {'name': 'steelix', 'url': 'https://pokeapi.co/api/v2/pokemon/208/'}, {'name': 'snubbull', 'url': 'https://pokeapi.co/api/v2/pokemon/209/'}, {'name': 'granbull', 'url': 'https://pokeapi.co/api/v2/pokemon/210/'}, {'name': 'qwilfish', 'url': 'https://pokeapi.co/api/v2/pokemon/211/'}, {'name': 'scizor', 'url': 'https://pokeapi.co/api/v2/pokemon/212/'}, {'name': 'shuckle', 'url': 'https://pokeapi.co/api/v2/pokemon/213/'}, {'name': 'heracross', 'url': 'https://pokeapi.co/api/v2/pokemon/214/'}, {'name': 'sneasel', 'url': 'https://pokeapi.co/api/v2/pokemon/215/'}, {'name': 'teddiursa', 'url': 'https://pokeapi.co/api/v2/pokemon/216/'}, {'name': 'ursaring', 'url': 'https://pokeapi.co/api/v2/pokemon/217/'}, {'name': 'slugma', 'url': 'https://pokeapi.co/api/v2/pokemon/218/'}, {'name': 'magcargo', 'url': 'https://pokeapi.co/api/v2/pokemon/219/'}, {'name': 'swinub', 'url': 'https://pokeapi.co/api/v2/pokemon/220/'}, {'name': 'piloswine', 'url': 'https://pokeapi.co/api/v2/pokemon/221/'}, {'name': 'corsola', 'url': 'https://pokeapi.co/api/v2/pokemon/222/'}, {'name': 'remoraid', 'url': 'https://pokeapi.co/api/v2/pokemon/223/'}, {'name': 'octillery', 'url': 'https://pokeapi.co/api/v2/pokemon/224/'}, {'name': 'delibird', 'url': 'https://pokeapi.co/api/v2/pokemon/225/'}, {'name': 'mantine', 'url': 'https://pokeapi.co/api/v2/pokemon/226/'}, {'name': 'skarmory', 'url': 'https://pokeapi.co/api/v2/pokemon/227/'}, {'name': 'houndour', 'url': 'https://pokeapi.co/api/v2/pokemon/228/'}, {'name': 'houndoom', 'url': 'https://pokeapi.co/api/v2/pokemon/229/'}, {'name': 'kingdra', 'url': 'https://pokeapi.co/api/v2/pokemon/230/'}, {'name': 'phanpy', 'url': 'https://pokeapi.co/api/v2/pokemon/231/'}, {'name': 'donphan', 'url': 'https://pokeapi.co/api/v2/pokemon/232/'}, {'name': 'porygon2', 'url': 'https://pokeapi.co/api/v2/pokemon/233/'}, {'name': 'stantler', 'url': 'https://pokeapi.co/api/v2/pokemon/234/'}, {'name': 'smeargle', 'url': 'https://pokeapi.co/api/v2/pokemon/235/'}, {'name': 'tyrogue', 'url': 'https://pokeapi.co/api/v2/pokemon/236/'}, {'name': 'hitmontop', 'url': 'https://pokeapi.co/api/v2/pokemon/237/'}, {'name': 'smoochum', 'url': 'https://pokeapi.co/api/v2/pokemon/238/'}, {'name': 'elekid', 'url': 'https://pokeapi.co/api/v2/pokemon/239/'}, {'name': 'magby', 'url': 'https://pokeapi.co/api/v2/pokemon/240/'}, {'name': 'miltank', 'url': 'https://pokeapi.co/api/v2/pokemon/241/'}, {'name': 'blissey', 'url': 'https://pokeapi.co/api/v2/pokemon/242/'}, {'name': 'raikou', 'url': 'https://pokeapi.co/api/v2/pokemon/243/'}, {'name': 'entei', 'url': 'https://pokeapi.co/api/v2/pokemon/244/'}, {'name': 'suicune', 'url': 'https://pokeapi.co/api/v2/pokemon/245/'}, {'name': 'larvitar', 'url': 'https://pokeapi.co/api/v2/pokemon/246/'}, {'name': 'pupitar', 'url': 'https://pokeapi.co/api/v2/pokemon/247/'}, {'name': 'tyranitar', 'url': 'https://pokeapi.co/api/v2/pokemon/248/'}, {'name': 'lugia', 'url': 'https://pokeapi.co/api/v2/pokemon/249/'}, {'name': 'ho-oh', 'url': 'https://pokeapi.co/api/v2/pokemon/250/'}, {'name': 'celebi', 'url': 'https://pokeapi.co/api/v2/pokemon/251/'}, {'name': 'treecko', 'url': 'https://pokeapi.co/api/v2/pokemon/252/'}, {'name': 'grovyle', 'url': 'https://pokeapi.co/api/v2/pokemon/253/'}, {'name': 'sceptile', 'url': 'https://pokeapi.co/api/v2/pokemon/254/'}, {'name': 'torchic', 'url': 'https://pokeapi.co/api/v2/pokemon/255/'}, {'name': 'combusken', 'url': 'https://pokeapi.co/api/v2/pokemon/256/'}, {'name': 'blaziken', 'url': 'https://pokeapi.co/api/v2/pokemon/257/'}, {'name': 'mudkip', 'url': 'https://pokeapi.co/api/v2/pokemon/258/'}, {'name': 'marshtomp', 'url': 'https://pokeapi.co/api/v2/pokemon/259/'}, {'name': 'swampert', 'url': 'https://pokeapi.co/api/v2/pokemon/260/'}, {'name': 'poochyena', 'url': 'https://pokeapi.co/api/v2/pokemon/261/'}, {'name': 'mightyena', 'url': 'https://pokeapi.co/api/v2/pokemon/262/'}, {'name': 'zigzagoon', 'url': 'https://pokeapi.co/api/v2/pokemon/263/'}, {'name': 'linoone', 'url': 'https://pokeapi.co/api/v2/pokemon/264/'}, {'name': 'wurmple', 'url': 'https://pokeapi.co/api/v2/pokemon/265/'}, {'name': 'silcoon', 'url': 'https://pokeapi.co/api/v2/pokemon/266/'}, {'name': 'beautifly', 'url': 'https://pokeapi.co/api/v2/pokemon/267/'}, {'name': 'cascoon', 'url': 'https://pokeapi.co/api/v2/pokemon/268/'}, {'name': 'dustox', 'url': 'https://pokeapi.co/api/v2/pokemon/269/'}, {'name': 'lotad', 'url': 'https://pokeapi.co/api/v2/pokemon/270/'}, {'name': 'lombre', 'url': 'https://pokeapi.co/api/v2/pokemon/271/'}, {'name': 'ludicolo', 'url': 'https://pokeapi.co/api/v2/pokemon/272/'}, {'name': 'seedot', 'url': 'https://pokeapi.co/api/v2/pokemon/273/'}, {'name': 'nuzleaf', 'url': 'https://pokeapi.co/api/v2/pokemon/274/'}, {'name': 'shiftry', 'url': 'https://pokeapi.co/api/v2/pokemon/275/'}, {'name': 'taillow', 'url': 'https://pokeapi.co/api/v2/pokemon/276/'}, {'name': 'swellow', 'url': 'https://pokeapi.co/api/v2/pokemon/277/'}, {'name': 'wingull', 'url': 'https://pokeapi.co/api/v2/pokemon/278/'}, {'name': 'pelipper', 'url': 'https://pokeapi.co/api/v2/pokemon/279/'}, {'name': 'ralts', 'url': 'https://pokeapi.co/api/v2/pokemon/280/'}, {'name': 'kirlia', 'url': 'https://pokeapi.co/api/v2/pokemon/281/'}, {'name': 'gardevoir', 'url': 'https://pokeapi.co/api/v2/pokemon/282/'}, {'name': 'surskit', 'url': 'https://pokeapi.co/api/v2/pokemon/283/'}, {'name': 'masquerain', 'url': 'https://pokeapi.co/api/v2/pokemon/284/'}, {'name': 'shroomish', 'url': 'https://pokeapi.co/api/v2/pokemon/285/'}, {'name': 'breloom', 'url': 'https://pokeapi.co/api/v2/pokemon/286/'}, {'name': 'slakoth', 'url': 'https://pokeapi.co/api/v2/pokemon/287/'}, {'name': 'vigoroth', 'url': 'https://pokeapi.co/api/v2/pokemon/288/'}, {'name': 'slaking', 'url': 'https://pokeapi.co/api/v2/pokemon/289/'}, {'name': 'nincada', 'url': 'https://pokeapi.co/api/v2/pokemon/290/'}, {'name': 'ninjask', 'url': 'https://pokeapi.co/api/v2/pokemon/291/'}, {'name': 'shedinja', 'url': 'https://pokeapi.co/api/v2/pokemon/292/'}, {'name': 'whismur', 'url': 'https://pokeapi.co/api/v2/pokemon/293/'}, {'name': 'loudred', 'url': 'https://pokeapi.co/api/v2/pokemon/294/'}, {'name': 'exploud', 'url': 'https://pokeapi.co/api/v2/pokemon/295/'}, {'name': 'makuhita', 'url': 'https://pokeapi.co/api/v2/pokemon/296/'}, {'name': 'hariyama', 'url': 'https://pokeapi.co/api/v2/pokemon/297/'}, {'name': 'azurill', 'url': 'https://pokeapi.co/api/v2/pokemon/298/'}, {'name': 'nosepass', 'url': 'https://pokeapi.co/api/v2/pokemon/299/'}, {'name': 'skitty', 'url': 'https://pokeapi.co/api/v2/pokemon/300/'}, {'name': 'delcatty', 'url': 'https://pokeapi.co/api/v2/pokemon/301/'}, {'name': 'sableye', 'url': 'https://pokeapi.co/api/v2/pokemon/302/'}, {'name': 'mawile', 'url': 'https://pokeapi.co/api/v2/pokemon/303/'}, {'name': 'aron', 'url': 'https://pokeapi.co/api/v2/pokemon/304/'}, {'name': 'lairon', 'url': 'https://pokeapi.co/api/v2/pokemon/305/'}, {'name': 'aggron', 'url': 'https://pokeapi.co/api/v2/pokemon/306/'}, {'name': 'meditite', 'url': 'https://pokeapi.co/api/v2/pokemon/307/'}, {'name': 'medicham', 'url': 'https://pokeapi.co/api/v2/pokemon/308/'}, {'name': 'electrike', 'url': 'https://pokeapi.co/api/v2/pokemon/309/'}, {'name': 'manectric', 'url': 'https://pokeapi.co/api/v2/pokemon/310/'}, {'name': 'plusle', 'url': 'https://pokeapi.co/api/v2/pokemon/311/'}, {'name': 'minun', 'url': 'https://pokeapi.co/api/v2/pokemon/312/'}, {'name': 'volbeat', 'url': 'https://pokeapi.co/api/v2/pokemon/313/'}, {'name': 'illumise', 'url': 'https://pokeapi.co/api/v2/pokemon/314/'}, {'name': 'roselia', 'url': 'https://pokeapi.co/api/v2/pokemon/315/'}, {'name': 'gulpin', 'url': 'https://pokeapi.co/api/v2/pokemon/316/'}, {'name': 'swalot', 'url': 'https://pokeapi.co/api/v2/pokemon/317/'}, {'name': 'carvanha', 'url': 'https://pokeapi.co/api/v2/pokemon/318/'}, {'name': 'sharpedo', 'url': 'https://pokeapi.co/api/v2/pokemon/319/'}, {'name': 'wailmer', 'url': 'https://pokeapi.co/api/v2/pokemon/320/'}, {'name': 'wailord', 'url': 'https://pokeapi.co/api/v2/pokemon/321/'}, {'name': 'numel', 'url': 'https://pokeapi.co/api/v2/pokemon/322/'}, {'name': 'camerupt', 'url': 'https://pokeapi.co/api/v2/pokemon/323/'}, {'name': 'torkoal', 'url': 'https://pokeapi.co/api/v2/pokemon/324/'}, {'name': 'spoink', 'url': 'https://pokeapi.co/api/v2/pokemon/325/'}, {'name': 'grumpig', 'url': 'https://pokeapi.co/api/v2/pokemon/326/'}, {'name': 'spinda', 'url': 'https://pokeapi.co/api/v2/pokemon/327/'}, {'name': 'trapinch', 'url': 'https://pokeapi.co/api/v2/pokemon/328/'}, {'name': 'vibrava', 'url': 'https://pokeapi.co/api/v2/pokemon/329/'}, {'name': 'flygon', 'url': 'https://pokeapi.co/api/v2/pokemon/330/'}, {'name': 'cacnea', 'url': 'https://pokeapi.co/api/v2/pokemon/331/'}, {'name': 'cacturne', 'url': 'https://pokeapi.co/api/v2/pokemon/332/'}, {'name': 'swablu', 'url': 'https://pokeapi.co/api/v2/pokemon/333/'}, {'name': 'altaria', 'url': 'https://pokeapi.co/api/v2/pokemon/334/'}, {'name': 'zangoose', 'url': 'https://pokeapi.co/api/v2/pokemon/335/'}, {'name': 'seviper', 'url': 'https://pokeapi.co/api/v2/pokemon/336/'}, {'name': 'lunatone', 'url': 'https://pokeapi.co/api/v2/pokemon/337/'}, {'name': 'solrock', 'url': 'https://pokeapi.co/api/v2/pokemon/338/'}, {'name': 'barboach', 'url': 'https://pokeapi.co/api/v2/pokemon/339/'}, {'name': 'whiscash', 'url': 'https://pokeapi.co/api/v2/pokemon/340/'}, {'name': 'corphish', 'url': 'https://pokeapi.co/api/v2/pokemon/341/'}, {'name': 'crawdaunt', 'url': 'https://pokeapi.co/api/v2/pokemon/342/'}, {'name': 'baltoy', 'url': 'https://pokeapi.co/api/v2/pokemon/343/'}, {'name': 'claydol', 'url': 'https://pokeapi.co/api/v2/pokemon/344/'}, {'name': 'lileep', 'url': 'https://pokeapi.co/api/v2/pokemon/345/'}, {'name': 'cradily', 'url': 'https://pokeapi.co/api/v2/pokemon/346/'}, {'name': 'anorith', 'url': 'https://pokeapi.co/api/v2/pokemon/347/'}, {'name': 'armaldo', 'url': 'https://pokeapi.co/api/v2/pokemon/348/'}, {'name': 'feebas', 'url': 'https://pokeapi.co/api/v2/pokemon/349/'}, {'name': 'milotic', 'url': 'https://pokeapi.co/api/v2/pokemon/350/'}, {'name': 'castform', 'url': 'https://pokeapi.co/api/v2/pokemon/351/'}, {'name': 'kecleon', 'url': 'https://pokeapi.co/api/v2/pokemon/352/'}, {'name': 'shuppet', 'url': 'https://pokeapi.co/api/v2/pokemon/353/'}, {'name': 'banette', 'url': 'https://pokeapi.co/api/v2/pokemon/354/'}, {'name': 'duskull', 'url': 'https://pokeapi.co/api/v2/pokemon/355/'}, {'name': 'dusclops', 'url': 'https://pokeapi.co/api/v2/pokemon/356/'}, {'name': 'tropius', 'url': 'https://pokeapi.co/api/v2/pokemon/357/'}, {'name': 'chimecho', 'url': 'https://pokeapi.co/api/v2/pokemon/358/'}, {'name': 'absol', 'url': 'https://pokeapi.co/api/v2/pokemon/359/'}, {'name': 'wynaut', 'url': 'https://pokeapi.co/api/v2/pokemon/360/'}, {'name': 'snorunt', 'url': 'https://pokeapi.co/api/v2/pokemon/361/'}, {'name': 'glalie', 'url': 'https://pokeapi.co/api/v2/pokemon/362/'}, {'name': 'spheal', 'url': 'https://pokeapi.co/api/v2/pokemon/363/'}, {'name': 'sealeo', 'url': 'https://pokeapi.co/api/v2/pokemon/364/'}, {'name': 'walrein', 'url': 'https://pokeapi.co/api/v2/pokemon/365/'}, {'name': 'clamperl', 'url': 'https://pokeapi.co/api/v2/pokemon/366/'}, {'name': 'huntail', 'url': 'https://pokeapi.co/api/v2/pokemon/367/'}, {'name': 'gorebyss', 'url': 'https://pokeapi.co/api/v2/pokemon/368/'}, {'name': 'relicanth', 'url': 'https://pokeapi.co/api/v2/pokemon/369/'}, {'name': 'luvdisc', 'url': 'https://pokeapi.co/api/v2/pokemon/370/'}, {'name': 'bagon', 'url': 'https://pokeapi.co/api/v2/pokemon/371/'}, {'name': 'shelgon', 'url': 'https://pokeapi.co/api/v2/pokemon/372/'}, {'name': 'salamence', 'url': 'https://pokeapi.co/api/v2/pokemon/373/'}, {'name': 'beldum', 'url': 'https://pokeapi.co/api/v2/pokemon/374/'}, {'name': 'metang', 'url': 'https://pokeapi.co/api/v2/pokemon/375/'}, {'name': 'metagross', 'url': 'https://pokeapi.co/api/v2/pokemon/376/'}, {'name': 'regirock', 'url': 'https://pokeapi.co/api/v2/pokemon/377/'}, {'name': 'regice', 'url': 'https://pokeapi.co/api/v2/pokemon/378/'}, {'name': 'registeel', 'url': 'https://pokeapi.co/api/v2/pokemon/379/'}, {'name': 'latias', 'url': 'https://pokeapi.co/api/v2/pokemon/380/'}, {'name': 'latios', 'url': 'https://pokeapi.co/api/v2/pokemon/381/'}, {'name': 'kyogre', 'url': 'https://pokeapi.co/api/v2/pokemon/382/'}, {'name': 'groudon', 'url': 'https://pokeapi.co/api/v2/pokemon/383/'}, {'name': 'rayquaza', 'url': 'https://pokeapi.co/api/v2/pokemon/384/'}, {'name': 'jirachi', 'url': 'https://pokeapi.co/api/v2/pokemon/385/'}, {'name': 'deoxys-normal', 'url': 'https://pokeapi.co/api/v2/pokemon/386/'}, {'name': 'turtwig', 'url': 'https://pokeapi.co/api/v2/pokemon/387/'}, {'name': 'grotle', 'url': 'https://pokeapi.co/api/v2/pokemon/388/'}, {'name': 'torterra', 'url': 'https://pokeapi.co/api/v2/pokemon/389/'}, {'name': 'chimchar', 'url': 'https://pokeapi.co/api/v2/pokemon/390/'}, {'name': 'monferno', 'url': 'https://pokeapi.co/api/v2/pokemon/391/'}, {'name': 'infernape', 'url': 'https://pokeapi.co/api/v2/pokemon/392/'}, {'name': 'piplup', 'url': 'https://pokeapi.co/api/v2/pokemon/393/'}, {'name': 'prinplup', 'url': 'https://pokeapi.co/api/v2/pokemon/394/'}, {'name': 'empoleon', 'url': 'https://pokeapi.co/api/v2/pokemon/395/'}, {'name': 'starly', 'url': 'https://pokeapi.co/api/v2/pokemon/396/'}, {'name': 'staravia', 'url': 'https://pokeapi.co/api/v2/pokemon/397/'}, {'name': 'staraptor', 'url': 'https://pokeapi.co/api/v2/pokemon/398/'}, {'name': 'bidoof', 'url': 'https://pokeapi.co/api/v2/pokemon/399/'}, {'name': 'bibarel', 'url': 'https://pokeapi.co/api/v2/pokemon/400/'}, {'name': 'kricketot', 'url': 'https://pokeapi.co/api/v2/pokemon/401/'}, {'name': 'kricketune', 'url': 'https://pokeapi.co/api/v2/pokemon/402/'}, {'name': 'shinx', 'url': 'https://pokeapi.co/api/v2/pokemon/403/'}, {'name': 'luxio', 'url': 'https://pokeapi.co/api/v2/pokemon/404/'}, {'name': 'luxray', 'url': 'https://pokeapi.co/api/v2/pokemon/405/'}, {'name': 'budew', 'url': 'https://pokeapi.co/api/v2/pokemon/406/'}, {'name': 'roserade', 'url': 'https://pokeapi.co/api/v2/pokemon/407/'}, {'name': 'cranidos', 'url': 'https://pokeapi.co/api/v2/pokemon/408/'}, {'name': 'rampardos', 'url': 'https://pokeapi.co/api/v2/pokemon/409/'}, {'name': 'shieldon', 'url': 'https://pokeapi.co/api/v2/pokemon/410/'}, {'name': 'bastiodon', 'url': 'https://pokeapi.co/api/v2/pokemon/411/'}, {'name': 'burmy', 'url': 'https://pokeapi.co/api/v2/pokemon/412/'}, {'name': 'wormadam-plant', 'url': 'https://pokeapi.co/api/v2/pokemon/413/'}, {'name': 'mothim', 'url': 'https://pokeapi.co/api/v2/pokemon/414/'}, {'name': 'combee', 'url': 'https://pokeapi.co/api/v2/pokemon/415/'}, {'name': 'vespiquen', 'url': 'https://pokeapi.co/api/v2/pokemon/416/'}, {'name': 'pachirisu', 'url': 'https://pokeapi.co/api/v2/pokemon/417/'}, {'name': 'buizel', 'url': 'https://pokeapi.co/api/v2/pokemon/418/'}, {'name': 'floatzel', 'url': 'https://pokeapi.co/api/v2/pokemon/419/'}, {'name': 'cherubi', 'url': 'https://pokeapi.co/api/v2/pokemon/420/'}, {'name': 'cherrim', 'url': 'https://pokeapi.co/api/v2/pokemon/421/'}, {'name': 'shellos', 'url': 'https://pokeapi.co/api/v2/pokemon/422/'}, {'name': 'gastrodon', 'url': 'https://pokeapi.co/api/v2/pokemon/423/'}, {'name': 'ambipom', 'url': 'https://pokeapi.co/api/v2/pokemon/424/'}, {'name': 'drifloon', 'url': 'https://pokeapi.co/api/v2/pokemon/425/'}, {'name': 'drifblim', 'url': 'https://pokeapi.co/api/v2/pokemon/426/'}, {'name': 'buneary', 'url': 'https://pokeapi.co/api/v2/pokemon/427/'}, {'name': 'lopunny', 'url': 'https://pokeapi.co/api/v2/pokemon/428/'}, {'name': 'mismagius', 'url': 'https://pokeapi.co/api/v2/pokemon/429/'}, {'name': 'honchkrow', 'url': 'https://pokeapi.co/api/v2/pokemon/430/'}, {'name': 'glameow', 'url': 'https://pokeapi.co/api/v2/pokemon/431/'}, {'name': 'purugly', 'url': 'https://pokeapi.co/api/v2/pokemon/432/'}, {'name': 'chingling', 'url': 'https://pokeapi.co/api/v2/pokemon/433/'}, {'name': 'stunky', 'url': 'https://pokeapi.co/api/v2/pokemon/434/'}, {'name': 'skuntank', 'url': 'https://pokeapi.co/api/v2/pokemon/435/'}, {'name': 'bronzor', 'url': 'https://pokeapi.co/api/v2/pokemon/436/'}, {'name': 'bronzong', 'url': 'https://pokeapi.co/api/v2/pokemon/437/'}, {'name': 'bonsly', 'url': 'https://pokeapi.co/api/v2/pokemon/438/'}, {'name': 'mime-jr', 'url': 'https://pokeapi.co/api/v2/pokemon/439/'}, {'name': 'happiny', 'url': 'https://pokeapi.co/api/v2/pokemon/440/'}, {'name': 'chatot', 'url': 'https://pokeapi.co/api/v2/pokemon/441/'}, {'name': 'spiritomb', 'url': 'https://pokeapi.co/api/v2/pokemon/442/'}, {'name': 'gible', 'url': 'https://pokeapi.co/api/v2/pokemon/443/'}, {'name': 'gabite', 'url': 'https://pokeapi.co/api/v2/pokemon/444/'}, {'name': 'garchomp', 'url': 'https://pokeapi.co/api/v2/pokemon/445/'}, {'name': 'munchlax', 'url': 'https://pokeapi.co/api/v2/pokemon/446/'}, {'name': 'riolu', 'url': 'https://pokeapi.co/api/v2/pokemon/447/'}, {'name': 'lucario', 'url': 'https://pokeapi.co/api/v2/pokemon/448/'}, {'name': 'hippopotas', 'url': 'https://pokeapi.co/api/v2/pokemon/449/'}, {'name': 'hippowdon', 'url': 'https://pokeapi.co/api/v2/pokemon/450/'}, {'name': 'skorupi', 'url': 'https://pokeapi.co/api/v2/pokemon/451/'}, {'name': 'drapion', 'url': 'https://pokeapi.co/api/v2/pokemon/452/'}, {'name': 'croagunk', 'url': 'https://pokeapi.co/api/v2/pokemon/453/'}, {'name': 'toxicroak', 'url': 'https://pokeapi.co/api/v2/pokemon/454/'}, {'name': 'carnivine', 'url': 'https://pokeapi.co/api/v2/pokemon/455/'}, {'name': 'finneon', 'url': 'https://pokeapi.co/api/v2/pokemon/456/'}, {'name': 'lumineon', 'url': 'https://pokeapi.co/api/v2/pokemon/457/'}, {'name': 'mantyke', 'url': 'https://pokeapi.co/api/v2/pokemon/458/'}, {'name': 'snover', 'url': 'https://pokeapi.co/api/v2/pokemon/459/'}, {'name': 'abomasnow', 'url': 'https://pokeapi.co/api/v2/pokemon/460/'}, {'name': 'weavile', 'url': 'https://pokeapi.co/api/v2/pokemon/461/'}, {'name': 'magnezone', 'url': 'https://pokeapi.co/api/v2/pokemon/462/'}, {'name': 'lickilicky', 'url': 'https://pokeapi.co/api/v2/pokemon/463/'}, {'name': 'rhyperior', 'url': 'https://pokeapi.co/api/v2/pokemon/464/'}, {'name': 'tangrowth', 'url': 'https://pokeapi.co/api/v2/pokemon/465/'}, {'name': 'electivire', 'url': 'https://pokeapi.co/api/v2/pokemon/466/'}, {'name': 'magmortar', 'url': 'https://pokeapi.co/api/v2/pokemon/467/'}, {'name': 'togekiss', 'url': 'https://pokeapi.co/api/v2/pokemon/468/'}, {'name': 'yanmega', 'url': 'https://pokeapi.co/api/v2/pokemon/469/'}, {'name': 'leafeon', 'url': 'https://pokeapi.co/api/v2/pokemon/470/'}, {'name': 'glaceon', 'url': 'https://pokeapi.co/api/v2/pokemon/471/'}, {'name': 'gliscor', 'url': 'https://pokeapi.co/api/v2/pokemon/472/'}, {'name': 'mamoswine', 'url': 'https://pokeapi.co/api/v2/pokemon/473/'}, {'name': 'porygon-z', 'url': 'https://pokeapi.co/api/v2/pokemon/474/'}, {'name': 'gallade', 'url': 'https://pokeapi.co/api/v2/pokemon/475/'}, {'name': 'probopass', 'url': 'https://pokeapi.co/api/v2/pokemon/476/'}, {'name': 'dusknoir', 'url': 'https://pokeapi.co/api/v2/pokemon/477/'}, {'name': 'froslass', 'url': 'https://pokeapi.co/api/v2/pokemon/478/'}, {'name': 'rotom', 'url': 'https://pokeapi.co/api/v2/pokemon/479/'}, {'name': 'uxie', 'url': 'https://pokeapi.co/api/v2/pokemon/480/'}, {'name': 'mesprit', 'url': 'https://pokeapi.co/api/v2/pokemon/481/'}, {'name': 'azelf', 'url': 'https://pokeapi.co/api/v2/pokemon/482/'}, {'name': 'dialga', 'url': 'https://pokeapi.co/api/v2/pokemon/483/'}, {'name': 'palkia', 'url': 'https://pokeapi.co/api/v2/pokemon/484/'}, {'name': 'heatran', 'url': 'https://pokeapi.co/api/v2/pokemon/485/'}, {'name': 'regigigas', 'url': 'https://pokeapi.co/api/v2/pokemon/486/'}, {'name': 'giratina-altered', 'url': 'https://pokeapi.co/api/v2/pokemon/487/'}, {'name': 'cresselia', 'url': 'https://pokeapi.co/api/v2/pokemon/488/'}, {'name': 'phione', 'url': 'https://pokeapi.co/api/v2/pokemon/489/'}, {'name': 'manaphy', 'url': 'https://pokeapi.co/api/v2/pokemon/490/'}, {'name': 'darkrai', 'url': 'https://pokeapi.co/api/v2/pokemon/491/'}, {'name': 'shaymin-land', 'url': 'https://pokeapi.co/api/v2/pokemon/492/'}, {'name': 'arceus', 'url': 'https://pokeapi.co/api/v2/pokemon/493/'}, {'name': 'victini', 'url': 'https://pokeapi.co/api/v2/pokemon/494/'}, {'name': 'snivy', 'url': 'https://pokeapi.co/api/v2/pokemon/495/'}, {'name': 'servine', 'url': 'https://pokeapi.co/api/v2/pokemon/496/'}, {'name': 'serperior', 'url': 'https://pokeapi.co/api/v2/pokemon/497/'}, {'name': 'tepig', 'url': 'https://pokeapi.co/api/v2/pokemon/498/'}, {'name': 'pignite', 'url': 'https://pokeapi.co/api/v2/pokemon/499/'}, {'name': 'emboar', 'url': 'https://pokeapi.co/api/v2/pokemon/500/'}, {'name': 'oshawott', 'url': 'https://pokeapi.co/api/v2/pokemon/501/'}, {'name': 'dewott', 'url': 'https://pokeapi.co/api/v2/pokemon/502/'}, {'name': 'samurott', 'url': 'https://pokeapi.co/api/v2/pokemon/503/'}, {'name': 'patrat', 'url': 'https://pokeapi.co/api/v2/pokemon/504/'}, {'name': 'watchog', 'url': 'https://pokeapi.co/api/v2/pokemon/505/'}, {'name': 'lillipup', 'url': 'https://pokeapi.co/api/v2/pokemon/506/'}, {'name': 'herdier', 'url': 'https://pokeapi.co/api/v2/pokemon/507/'}, {'name': 'stoutland', 'url': 'https://pokeapi.co/api/v2/pokemon/508/'}, {'name': 'purrloin', 'url': 'https://pokeapi.co/api/v2/pokemon/509/'}, {'name': 'liepard', 'url': 'https://pokeapi.co/api/v2/pokemon/510/'}, {'name': 'pansage', 'url': 'https://pokeapi.co/api/v2/pokemon/511/'}, {'name': 'simisage', 'url': 'https://pokeapi.co/api/v2/pokemon/512/'}, {'name': 'pansear', 'url': 'https://pokeapi.co/api/v2/pokemon/513/'}, {'name': 'simisear', 'url': 'https://pokeapi.co/api/v2/pokemon/514/'}, {'name': 'panpour', 'url': 'https://pokeapi.co/api/v2/pokemon/515/'}, {'name': 'simipour', 'url': 'https://pokeapi.co/api/v2/pokemon/516/'}, {'name': 'munna', 'url': 'https://pokeapi.co/api/v2/pokemon/517/'}, {'name': 'musharna', 'url': 'https://pokeapi.co/api/v2/pokemon/518/'}, {'name': 'pidove', 'url': 'https://pokeapi.co/api/v2/pokemon/519/'}, {'name': 'tranquill', 'url': 'https://pokeapi.co/api/v2/pokemon/520/'}, {'name': 'unfezant', 'url': 'https://pokeapi.co/api/v2/pokemon/521/'}, {'name': 'blitzle', 'url': 'https://pokeapi.co/api/v2/pokemon/522/'}, {'name': 'zebstrika', 'url': 'https://pokeapi.co/api/v2/pokemon/523/'}, {'name': 'roggenrola', 'url': 'https://pokeapi.co/api/v2/pokemon/524/'}, {'name': 'boldore', 'url': 'https://pokeapi.co/api/v2/pokemon/525/'}, {'name': 'gigalith', 'url': 'https://pokeapi.co/api/v2/pokemon/526/'}, {'name': 'woobat', 'url': 'https://pokeapi.co/api/v2/pokemon/527/'}, {'name': 'swoobat', 'url': 'https://pokeapi.co/api/v2/pokemon/528/'}, {'name': 'drilbur', 'url': 'https://pokeapi.co/api/v2/pokemon/529/'}, {'name': 'excadrill', 'url': 'https://pokeapi.co/api/v2/pokemon/530/'}, {'name': 'audino', 'url': 'https://pokeapi.co/api/v2/pokemon/531/'}, {'name': 'timburr', 'url': 'https://pokeapi.co/api/v2/pokemon/532/'}, {'name': 'gurdurr', 'url': 'https://pokeapi.co/api/v2/pokemon/533/'}, {'name': 'conkeldurr', 'url': 'https://pokeapi.co/api/v2/pokemon/534/'}, {'name': 'tympole', 'url': 'https://pokeapi.co/api/v2/pokemon/535/'}, {'name': 'palpitoad', 'url': 'https://pokeapi.co/api/v2/pokemon/536/'}, {'name': 'seismitoad', 'url': 'https://pokeapi.co/api/v2/pokemon/537/'}, {'name': 'throh', 'url': 'https://pokeapi.co/api/v2/pokemon/538/'}, {'name': 'sawk', 'url': 'https://pokeapi.co/api/v2/pokemon/539/'}, {'name': 'sewaddle', 'url': 'https://pokeapi.co/api/v2/pokemon/540/'}, {'name': 'swadloon', 'url': 'https://pokeapi.co/api/v2/pokemon/541/'}, {'name': 'leavanny', 'url': 'https://pokeapi.co/api/v2/pokemon/542/'}, {'name': 'venipede', 'url': 'https://pokeapi.co/api/v2/pokemon/543/'}, {'name': 'whirlipede', 'url': 'https://pokeapi.co/api/v2/pokemon/544/'}, {'name': 'scolipede', 'url': 'https://pokeapi.co/api/v2/pokemon/545/'}, {'name': 'cottonee', 'url': 'https://pokeapi.co/api/v2/pokemon/546/'}, {'name': 'whimsicott', 'url': 'https://pokeapi.co/api/v2/pokemon/547/'}, {'name': 'petilil', 'url': 'https://pokeapi.co/api/v2/pokemon/548/'}, {'name': 'lilligant', 'url': 'https://pokeapi.co/api/v2/pokemon/549/'}, {'name': 'basculin-red-striped', 'url': 'https://pokeapi.co/api/v2/pokemon/550/'}, {'name': 'sandile', 'url': 'https://pokeapi.co/api/v2/pokemon/551/'}, {'name': 'krokorok', 'url': 'https://pokeapi.co/api/v2/pokemon/552/'}, {'name': 'krookodile', 'url': 'https://pokeapi.co/api/v2/pokemon/553/'}, {'name': 'darumaka', 'url': 'https://pokeapi.co/api/v2/pokemon/554/'}, {'name': 'darmanitan-standard', 'url': 'https://pokeapi.co/api/v2/pokemon/555/'}, {'name': 'maractus', 'url': 'https://pokeapi.co/api/v2/pokemon/556/'}, {'name': 'dwebble', 'url': 'https://pokeapi.co/api/v2/pokemon/557/'}, {'name': 'crustle', 'url': 'https://pokeapi.co/api/v2/pokemon/558/'}, {'name': 'scraggy', 'url': 'https://pokeapi.co/api/v2/pokemon/559/'}, {'name': 'scrafty', 'url': 'https://pokeapi.co/api/v2/pokemon/560/'}, {'name': 'sigilyph', 'url': 'https://pokeapi.co/api/v2/pokemon/561/'}, {'name': 'yamask', 'url': 'https://pokeapi.co/api/v2/pokemon/562/'}, {'name': 'cofagrigus', 'url': 'https://pokeapi.co/api/v2/pokemon/563/'}, {'name': 'tirtouga', 'url': 'https://pokeapi.co/api/v2/pokemon/564/'}, {'name': 'carracosta', 'url': 'https://pokeapi.co/api/v2/pokemon/565/'}, {'name': 'archen', 'url': 'https://pokeapi.co/api/v2/pokemon/566/'}, {'name': 'archeops', 'url': 'https://pokeapi.co/api/v2/pokemon/567/'}, {'name': 'trubbish', 'url': 'https://pokeapi.co/api/v2/pokemon/568/'}, {'name': 'garbodor', 'url': 'https://pokeapi.co/api/v2/pokemon/569/'}, {'name': 'zorua', 'url': 'https://pokeapi.co/api/v2/pokemon/570/'}, {'name': 'zoroark', 'url': 'https://pokeapi.co/api/v2/pokemon/571/'}, {'name': 'minccino', 'url': 'https://pokeapi.co/api/v2/pokemon/572/'}, {'name': 'cinccino', 'url': 'https://pokeapi.co/api/v2/pokemon/573/'}, {'name': 'gothita', 'url': 'https://pokeapi.co/api/v2/pokemon/574/'}, {'name': 'gothorita', 'url': 'https://pokeapi.co/api/v2/pokemon/575/'}, {'name': 'gothitelle', 'url': 'https://pokeapi.co/api/v2/pokemon/576/'}, {'name': 'solosis', 'url': 'https://pokeapi.co/api/v2/pokemon/577/'}, {'name': 'duosion', 'url': 'https://pokeapi.co/api/v2/pokemon/578/'}, {'name': 'reuniclus', 'url': 'https://pokeapi.co/api/v2/pokemon/579/'}, {'name': 'ducklett', 'url': 'https://pokeapi.co/api/v2/pokemon/580/'}, {'name': 'swanna', 'url': 'https://pokeapi.co/api/v2/pokemon/581/'}, {'name': 'vanillite', 'url': 'https://pokeapi.co/api/v2/pokemon/582/'}, {'name': 'vanillish', 'url': 'https://pokeapi.co/api/v2/pokemon/583/'}, {'name': 'vanilluxe', 'url': 'https://pokeapi.co/api/v2/pokemon/584/'}, {'name': 'deerling', 'url': 'https://pokeapi.co/api/v2/pokemon/585/'}, {'name': 'sawsbuck', 'url': 'https://pokeapi.co/api/v2/pokemon/586/'}, {'name': 'emolga', 'url': 'https://pokeapi.co/api/v2/pokemon/587/'}, {'name': 'karrablast', 'url': 'https://pokeapi.co/api/v2/pokemon/588/'}, {'name': 'escavalier', 'url': 'https://pokeapi.co/api/v2/pokemon/589/'}, {'name': 'foongus', 'url': 'https://pokeapi.co/api/v2/pokemon/590/'}, {'name': 'amoonguss', 'url': 'https://pokeapi.co/api/v2/pokemon/591/'}, {'name': 'frillish', 'url': 'https://pokeapi.co/api/v2/pokemon/592/'}, {'name': 'jellicent', 'url': 'https://pokeapi.co/api/v2/pokemon/593/'}, {'name': 'alomomola', 'url': 'https://pokeapi.co/api/v2/pokemon/594/'}, {'name': 'joltik', 'url': 'https://pokeapi.co/api/v2/pokemon/595/'}, {'name': 'galvantula', 'url': 'https://pokeapi.co/api/v2/pokemon/596/'}, {'name': 'ferroseed', 'url': 'https://pokeapi.co/api/v2/pokemon/597/'}, {'name': 'ferrothorn', 'url': 'https://pokeapi.co/api/v2/pokemon/598/'}, {'name': 'klink', 'url': 'https://pokeapi.co/api/v2/pokemon/599/'}, {'name': 'klang', 'url': 'https://pokeapi.co/api/v2/pokemon/600/'}, {'name': 'klinklang', 'url': 'https://pokeapi.co/api/v2/pokemon/601/'}, {'name': 'tynamo', 'url': 'https://pokeapi.co/api/v2/pokemon/602/'}, {'name': 'eelektrik', 'url': 'https://pokeapi.co/api/v2/pokemon/603/'}, {'name': 'eelektross', 'url': 'https://pokeapi.co/api/v2/pokemon/604/'}, {'name': 'elgyem', 'url': 'https://pokeapi.co/api/v2/pokemon/605/'}, {'name': 'beheeyem', 'url': 'https://pokeapi.co/api/v2/pokemon/606/'}, {'name': 'litwick', 'url': 'https://pokeapi.co/api/v2/pokemon/607/'}, {'name': 'lampent', 'url': 'https://pokeapi.co/api/v2/pokemon/608/'}, {'name': 'chandelure', 'url': 'https://pokeapi.co/api/v2/pokemon/609/'}, {'name': 'axew', 'url': 'https://pokeapi.co/api/v2/pokemon/610/'}, {'name': 'fraxure', 'url': 'https://pokeapi.co/api/v2/pokemon/611/'}, {'name': 'haxorus', 'url': 'https://pokeapi.co/api/v2/pokemon/612/'}, {'name': 'cubchoo', 'url': 'https://pokeapi.co/api/v2/pokemon/613/'}, {'name': 'beartic', 'url': 'https://pokeapi.co/api/v2/pokemon/614/'}, {'name': 'cryogonal', 'url': 'https://pokeapi.co/api/v2/pokemon/615/'}, {'name': 'shelmet', 'url': 'https://pokeapi.co/api/v2/pokemon/616/'}, {'name': 'accelgor', 'url': 'https://pokeapi.co/api/v2/pokemon/617/'}, {'name': 'stunfisk', 'url': 'https://pokeapi.co/api/v2/pokemon/618/'}, {'name': 'mienfoo', 'url': 'https://pokeapi.co/api/v2/pokemon/619/'}, {'name': 'mienshao', 'url': 'https://pokeapi.co/api/v2/pokemon/620/'}, {'name': 'druddigon', 'url': 'https://pokeapi.co/api/v2/pokemon/621/'}, {'name': 'golett', 'url': 'https://pokeapi.co/api/v2/pokemon/622/'}, {'name': 'golurk', 'url': 'https://pokeapi.co/api/v2/pokemon/623/'}, {'name': 'pawniard', 'url': 'https://pokeapi.co/api/v2/pokemon/624/'}, {'name': 'bisharp', 'url': 'https://pokeapi.co/api/v2/pokemon/625/'}, {'name': 'bouffalant', 'url': 'https://pokeapi.co/api/v2/pokemon/626/'}, {'name': 'rufflet', 'url': 'https://pokeapi.co/api/v2/pokemon/627/'}, {'name': 'braviary', 'url': 'https://pokeapi.co/api/v2/pokemon/628/'}, {'name': 'vullaby', 'url': 'https://pokeapi.co/api/v2/pokemon/629/'}, {'name': 'mandibuzz', 'url': 'https://pokeapi.co/api/v2/pokemon/630/'}, {'name': 'heatmor', 'url': 'https://pokeapi.co/api/v2/pokemon/631/'}, {'name': 'durant', 'url': 'https://pokeapi.co/api/v2/pokemon/632/'}, {'name': 'deino', 'url': 'https://pokeapi.co/api/v2/pokemon/633/'}, {'name': 'zweilous', 'url': 'https://pokeapi.co/api/v2/pokemon/634/'}, {'name': 'hydreigon', 'url': 'https://pokeapi.co/api/v2/pokemon/635/'}, {'name': 'larvesta', 'url': 'https://pokeapi.co/api/v2/pokemon/636/'}, {'name': 'volcarona', 'url': 'https://pokeapi.co/api/v2/pokemon/637/'}, {'name': 'cobalion', 'url': 'https://pokeapi.co/api/v2/pokemon/638/'}, {'name': 'terrakion', 'url': 'https://pokeapi.co/api/v2/pokemon/639/'}, {'name': 'virizion', 'url': 'https://pokeapi.co/api/v2/pokemon/640/'}, {'name': 'tornadus-incarnate', 'url': 'https://pokeapi.co/api/v2/pokemon/641/'}, {'name': 'thundurus-incarnate', 'url': 'https://pokeapi.co/api/v2/pokemon/642/'}, {'name': 'reshiram', 'url': 'https://pokeapi.co/api/v2/pokemon/643/'}, {'name': 'zekrom', 'url': 'https://pokeapi.co/api/v2/pokemon/644/'}, {'name': 'landorus-incarnate', 'url': 'https://pokeapi.co/api/v2/pokemon/645/'}, {'name': 'kyurem', 'url': 'https://pokeapi.co/api/v2/pokemon/646/'}, {'name': 'keldeo-ordinary', 'url': 'https://pokeapi.co/api/v2/pokemon/647/'}, {'name': 'meloetta-aria', 'url': 'https://pokeapi.co/api/v2/pokemon/648/'}, {'name': 'genesect', 'url': 'https://pokeapi.co/api/v2/pokemon/649/'}, {'name': 'chespin', 'url': 'https://pokeapi.co/api/v2/pokemon/650/'}, {'name': 'quilladin', 'url': 'https://pokeapi.co/api/v2/pokemon/651/'}, {'name': 'chesnaught', 'url': 'https://pokeapi.co/api/v2/pokemon/652/'}, {'name': 'fennekin', 'url': 'https://pokeapi.co/api/v2/pokemon/653/'}, {'name': 'braixen', 'url': 'https://pokeapi.co/api/v2/pokemon/654/'}, {'name': 'delphox', 'url': 'https://pokeapi.co/api/v2/pokemon/655/'}, {'name': 'froakie', 'url': 'https://pokeapi.co/api/v2/pokemon/656/'}, {'name': 'frogadier', 'url': 'https://pokeapi.co/api/v2/pokemon/657/'}, {'name': 'greninja', 'url': 'https://pokeapi.co/api/v2/pokemon/658/'}, {'name': 'bunnelby', 'url': 'https://pokeapi.co/api/v2/pokemon/659/'}, {'name': 'diggersby', 'url': 'https://pokeapi.co/api/v2/pokemon/660/'}, {'name': 'fletchling', 'url': 'https://pokeapi.co/api/v2/pokemon/661/'}, {'name': 'fletchinder', 'url': 'https://pokeapi.co/api/v2/pokemon/662/'}, {'name': 'talonflame', 'url': 'https://pokeapi.co/api/v2/pokemon/663/'}, {'name': 'scatterbug', 'url': 'https://pokeapi.co/api/v2/pokemon/664/'}, {'name': 'spewpa', 'url': 'https://pokeapi.co/api/v2/pokemon/665/'}, {'name': 'vivillon', 'url': 'https://pokeapi.co/api/v2/pokemon/666/'}, {'name': 'litleo', 'url': 'https://pokeapi.co/api/v2/pokemon/667/'}, {'name': 'pyroar', 'url': 'https://pokeapi.co/api/v2/pokemon/668/'}, {'name': 'flabebe', 'url': 'https://pokeapi.co/api/v2/pokemon/669/'}, {'name': 'floette', 'url': 'https://pokeapi.co/api/v2/pokemon/670/'}, {'name': 'florges', 'url': 'https://pokeapi.co/api/v2/pokemon/671/'}, {'name': 'skiddo', 'url': 'https://pokeapi.co/api/v2/pokemon/672/'}, {'name': 'gogoat', 'url': 'https://pokeapi.co/api/v2/pokemon/673/'}, {'name': 'pancham', 'url': 'https://pokeapi.co/api/v2/pokemon/674/'}, {'name': 'pangoro', 'url': 'https://pokeapi.co/api/v2/pokemon/675/'}, {'name': 'furfrou', 'url': 'https://pokeapi.co/api/v2/pokemon/676/'}, {'name': 'espurr', 'url': 'https://pokeapi.co/api/v2/pokemon/677/'}, {'name': 'meowstic-male', 'url': 'https://pokeapi.co/api/v2/pokemon/678/'}, {'name': 'honedge', 'url': 'https://pokeapi.co/api/v2/pokemon/679/'}, {'name': 'doublade', 'url': 'https://pokeapi.co/api/v2/pokemon/680/'}, {'name': 'aegislash-shield', 'url': 'https://pokeapi.co/api/v2/pokemon/681/'}, {'name': 'spritzee', 'url': 'https://pokeapi.co/api/v2/pokemon/682/'}, {'name': 'aromatisse', 'url': 'https://pokeapi.co/api/v2/pokemon/683/'}, {'name': 'swirlix', 'url': 'https://pokeapi.co/api/v2/pokemon/684/'}, {'name': 'slurpuff', 'url': 'https://pokeapi.co/api/v2/pokemon/685/'}, {'name': 'inkay', 'url': 'https://pokeapi.co/api/v2/pokemon/686/'}, {'name': 'malamar', 'url': 'https://pokeapi.co/api/v2/pokemon/687/'}, {'name': 'binacle', 'url': 'https://pokeapi.co/api/v2/pokemon/688/'}, {'name': 'barbaracle', 'url': 'https://pokeapi.co/api/v2/pokemon/689/'}, {'name': 'skrelp', 'url': 'https://pokeapi.co/api/v2/pokemon/690/'}, {'name': 'dragalge', 'url': 'https://pokeapi.co/api/v2/pokemon/691/'}, {'name': 'clauncher', 'url': 'https://pokeapi.co/api/v2/pokemon/692/'}, {'name': 'clawitzer', 'url': 'https://pokeapi.co/api/v2/pokemon/693/'}, {'name': 'helioptile', 'url': 'https://pokeapi.co/api/v2/pokemon/694/'}, {'name': 'heliolisk', 'url': 'https://pokeapi.co/api/v2/pokemon/695/'}, {'name': 'tyrunt', 'url': 'https://pokeapi.co/api/v2/pokemon/696/'}, {'name': 'tyrantrum', 'url': 'https://pokeapi.co/api/v2/pokemon/697/'}, {'name': 'amaura', 'url': 'https://pokeapi.co/api/v2/pokemon/698/'}, {'name': 'aurorus', 'url': 'https://pokeapi.co/api/v2/pokemon/699/'}, {'name': 'sylveon', 'url': 'https://pokeapi.co/api/v2/pokemon/700/'}, {'name': 'hawlucha', 'url': 'https://pokeapi.co/api/v2/pokemon/701/'}, {'name': 'dedenne', 'url': 'https://pokeapi.co/api/v2/pokemon/702/'}, {'name': 'carbink', 'url': 'https://pokeapi.co/api/v2/pokemon/703/'}, {'name': 'goomy', 'url': 'https://pokeapi.co/api/v2/pokemon/704/'}, {'name': 'sliggoo', 'url': 'https://pokeapi.co/api/v2/pokemon/705/'}, {'name': 'goodra', 'url': 'https://pokeapi.co/api/v2/pokemon/706/'}, {'name': 'klefki', 'url': 'https://pokeapi.co/api/v2/pokemon/707/'}, {'name': 'phantump', 'url': 'https://pokeapi.co/api/v2/pokemon/708/'}, {'name': 'trevenant', 'url': 'https://pokeapi.co/api/v2/pokemon/709/'}, {'name': 'pumpkaboo-average', 'url': 'https://pokeapi.co/api/v2/pokemon/710/'}, {'name': 'gourgeist-average', 'url': 'https://pokeapi.co/api/v2/pokemon/711/'}, {'name': 'bergmite', 'url': 'https://pokeapi.co/api/v2/pokemon/712/'}, {'name': 'avalugg', 'url': 'https://pokeapi.co/api/v2/pokemon/713/'}, {'name': 'noibat', 'url': 'https://pokeapi.co/api/v2/pokemon/714/'}, {'name': 'noivern', 'url': 'https://pokeapi.co/api/v2/pokemon/715/'}, {'name': 'xerneas', 'url': 'https://pokeapi.co/api/v2/pokemon/716/'}, {'name': 'yveltal', 'url': 'https://pokeapi.co/api/v2/pokemon/717/'}, {'name': 'zygarde-50', 'url': 'https://pokeapi.co/api/v2/pokemon/718/'}, {'name': 'diancie', 'url': 'https://pokeapi.co/api/v2/pokemon/719/'}, {'name': 'hoopa', 'url': 'https://pokeapi.co/api/v2/pokemon/720/'}, {'name': 'volcanion', 'url': 'https://pokeapi.co/api/v2/pokemon/721/'}, {'name': 'rowlet', 'url': 'https://pokeapi.co/api/v2/pokemon/722/'}, {'name': 'dartrix', 'url': 'https://pokeapi.co/api/v2/pokemon/723/'}, {'name': 'decidueye', 'url': 'https://pokeapi.co/api/v2/pokemon/724/'}, {'name': 'litten', 'url': 'https://pokeapi.co/api/v2/pokemon/725/'}, {'name': 'torracat', 'url': 'https://pokeapi.co/api/v2/pokemon/726/'}, {'name': 'incineroar', 'url': 'https://pokeapi.co/api/v2/pokemon/727/'}, {'name': 'popplio', 'url': 'https://pokeapi.co/api/v2/pokemon/728/'}, {'name': 'brionne', 'url': 'https://pokeapi.co/api/v2/pokemon/729/'}, {'name': 'primarina', 'url': 'https://pokeapi.co/api/v2/pokemon/730/'}, {'name': 'pikipek', 'url': 'https://pokeapi.co/api/v2/pokemon/731/'}, {'name': 'trumbeak', 'url': 'https://pokeapi.co/api/v2/pokemon/732/'}, {'name': 'toucannon', 'url': 'https://pokeapi.co/api/v2/pokemon/733/'}, {'name': 'yungoos', 'url': 'https://pokeapi.co/api/v2/pokemon/734/'}, {'name': 'gumshoos', 'url': 'https://pokeapi.co/api/v2/pokemon/735/'}, {'name': 'grubbin', 'url': 'https://pokeapi.co/api/v2/pokemon/736/'}, {'name': 'charjabug', 'url': 'https://pokeapi.co/api/v2/pokemon/737/'}, {'name': 'vikavolt', 'url': 'https://pokeapi.co/api/v2/pokemon/738/'}, {'name': 'crabrawler', 'url': 'https://pokeapi.co/api/v2/pokemon/739/'}, {'name': 'crabominable', 'url': 'https://pokeapi.co/api/v2/pokemon/740/'}, {'name': 'oricorio-baile', 'url': 'https://pokeapi.co/api/v2/pokemon/741/'}, {'name': 'cutiefly', 'url': 'https://pokeapi.co/api/v2/pokemon/742/'}, {'name': 'ribombee', 'url': 'https://pokeapi.co/api/v2/pokemon/743/'}, {'name': 'rockruff', 'url': 'https://pokeapi.co/api/v2/pokemon/744/'}, {'name': 'lycanroc-midday', 'url': 'https://pokeapi.co/api/v2/pokemon/745/'}, {'name': 'wishiwashi-solo', 'url': 'https://pokeapi.co/api/v2/pokemon/746/'}, {'name': 'mareanie', 'url': 'https://pokeapi.co/api/v2/pokemon/747/'}, {'name': 'toxapex', 'url': 'https://pokeapi.co/api/v2/pokemon/748/'}, {'name': 'mudbray', 'url': 'https://pokeapi.co/api/v2/pokemon/749/'}, {'name': 'mudsdale', 'url': 'https://pokeapi.co/api/v2/pokemon/750/'}, {'name': 'dewpider', 'url': 'https://pokeapi.co/api/v2/pokemon/751/'}, {'name': 'araquanid', 'url': 'https://pokeapi.co/api/v2/pokemon/752/'}, {'name': 'fomantis', 'url': 'https://pokeapi.co/api/v2/pokemon/753/'}, {'name': 'lurantis', 'url': 'https://pokeapi.co/api/v2/pokemon/754/'}, {'name': 'morelull', 'url': 'https://pokeapi.co/api/v2/pokemon/755/'}, {'name': 'shiinotic', 'url': 'https://pokeapi.co/api/v2/pokemon/756/'}, {'name': 'salandit', 'url': 'https://pokeapi.co/api/v2/pokemon/757/'}, {'name': 'salazzle', 'url': 'https://pokeapi.co/api/v2/pokemon/758/'}, {'name': 'stufful', 'url': 'https://pokeapi.co/api/v2/pokemon/759/'}, {'name': 'bewear', 'url': 'https://pokeapi.co/api/v2/pokemon/760/'}, {'name': 'bounsweet', 'url': 'https://pokeapi.co/api/v2/pokemon/761/'}, {'name': 'steenee', 'url': 'https://pokeapi.co/api/v2/pokemon/762/'}, {'name': 'tsareena', 'url': 'https://pokeapi.co/api/v2/pokemon/763/'}, {'name': 'comfey', 'url': 'https://pokeapi.co/api/v2/pokemon/764/'}, {'name': 'oranguru', 'url': 'https://pokeapi.co/api/v2/pokemon/765/'}, {'name': 'passimian', 'url': 'https://pokeapi.co/api/v2/pokemon/766/'}, {'name': 'wimpod', 'url': 'https://pokeapi.co/api/v2/pokemon/767/'}, {'name': 'golisopod', 'url': 'https://pokeapi.co/api/v2/pokemon/768/'}, {'name': 'sandygast', 'url': 'https://pokeapi.co/api/v2/pokemon/769/'}, {'name': 'palossand', 'url': 'https://pokeapi.co/api/v2/pokemon/770/'}, {'name': 'pyukumuku', 'url': 'https://pokeapi.co/api/v2/pokemon/771/'}, {'name': 'type-null', 'url': 'https://pokeapi.co/api/v2/pokemon/772/'}, {'name': 'silvally', 'url': 'https://pokeapi.co/api/v2/pokemon/773/'}, {'name': 'minior-red-meteor', 'url': 'https://pokeapi.co/api/v2/pokemon/774/'}, {'name': 'komala', 'url': 'https://pokeapi.co/api/v2/pokemon/775/'}, {'name': 'turtonator', 'url': 'https://pokeapi.co/api/v2/pokemon/776/'}, {'name': 'togedemaru', 'url': 'https://pokeapi.co/api/v2/pokemon/777/'}, {'name': 'mimikyu-disguised', 'url': 'https://pokeapi.co/api/v2/pokemon/778/'}, {'name': 'bruxish', 'url': 'https://pokeapi.co/api/v2/pokemon/779/'}, {'name': 'drampa', 'url': 'https://pokeapi.co/api/v2/pokemon/780/'}, {'name': 'dhelmise', 'url': 'https://pokeapi.co/api/v2/pokemon/781/'}, {'name': 'jangmo-o', 'url': 'https://pokeapi.co/api/v2/pokemon/782/'}, {'name': 'hakamo-o', 'url': 'https://pokeapi.co/api/v2/pokemon/783/'}, {'name': 'kommo-o', 'url': 'https://pokeapi.co/api/v2/pokemon/784/'}, {'name': 'tapu-koko', 'url': 'https://pokeapi.co/api/v2/pokemon/785/'}, {'name': 'tapu-lele', 'url': 'https://pokeapi.co/api/v2/pokemon/786/'}, {'name': 'tapu-bulu', 'url': 'https://pokeapi.co/api/v2/pokemon/787/'}, {'name': 'tapu-fini', 'url': 'https://pokeapi.co/api/v2/pokemon/788/'}, {'name': 'cosmog', 'url': 'https://pokeapi.co/api/v2/pokemon/789/'}, {'name': 'cosmoem', 'url': 'https://pokeapi.co/api/v2/pokemon/790/'}, {'name': 'solgaleo', 'url': 'https://pokeapi.co/api/v2/pokemon/791/'}, {'name': 'lunala', 'url': 'https://pokeapi.co/api/v2/pokemon/792/'}, {'name': 'nihilego', 'url': 'https://pokeapi.co/api/v2/pokemon/793/'}, {'name': 'buzzwole', 'url': 'https://pokeapi.co/api/v2/pokemon/794/'}, {'name': 'pheromosa', 'url': 'https://pokeapi.co/api/v2/pokemon/795/'}, {'name': 'xurkitree', 'url': 'https://pokeapi.co/api/v2/pokemon/796/'}, {'name': 'celesteela', 'url': 'https://pokeapi.co/api/v2/pokemon/797/'}, {'name': 'kartana', 'url': 'https://pokeapi.co/api/v2/pokemon/798/'}, {'name': 'guzzlord', 'url': 'https://pokeapi.co/api/v2/pokemon/799/'}, {'name': 'necrozma', 'url': 'https://pokeapi.co/api/v2/pokemon/800/'}, {'name': 'magearna', 'url': 'https://pokeapi.co/api/v2/pokemon/801/'}, {'name': 'marshadow', 'url': 'https://pokeapi.co/api/v2/pokemon/802/'}, {'name': 'poipole', 'url': 'https://pokeapi.co/api/v2/pokemon/803/'}, {'name': 'naganadel', 'url': 'https://pokeapi.co/api/v2/pokemon/804/'}, {'name': 'stakataka', 'url': 'https://pokeapi.co/api/v2/pokemon/805/'}, {'name': 'blacephalon', 'url': 'https://pokeapi.co/api/v2/pokemon/806/'}, {'name': 'zeraora', 'url': 'https://pokeapi.co/api/v2/pokemon/807/'}, {'name': 'meltan', 'url': 'https://pokeapi.co/api/v2/pokemon/808/'}, {'name': 'melmetal', 'url': 'https://pokeapi.co/api/v2/pokemon/809/'}, {'name': 'grookey', 'url': 'https://pokeapi.co/api/v2/pokemon/810/'}, {'name': 'thwackey', 'url': 'https://pokeapi.co/api/v2/pokemon/811/'}, {'name': 'rillaboom', 'url': 'https://pokeapi.co/api/v2/pokemon/812/'}, {'name': 'scorbunny', 'url': 'https://pokeapi.co/api/v2/pokemon/813/'}, {'name': 'raboot', 'url': 'https://pokeapi.co/api/v2/pokemon/814/'}, {'name': 'cinderace', 'url': 'https://pokeapi.co/api/v2/pokemon/815/'}, {'name': 'sobble', 'url': 'https://pokeapi.co/api/v2/pokemon/816/'}, {'name': 'drizzile', 'url': 'https://pokeapi.co/api/v2/pokemon/817/'}, {'name': 'inteleon', 'url': 'https://pokeapi.co/api/v2/pokemon/818/'}, {'name': 'skwovet', 'url': 'https://pokeapi.co/api/v2/pokemon/819/'}, {'name': 'greedent', 'url': 'https://pokeapi.co/api/v2/pokemon/820/'}, {'name': 'rookidee', 'url': 'https://pokeapi.co/api/v2/pokemon/821/'}, {'name': 'corvisquire', 'url': 'https://pokeapi.co/api/v2/pokemon/822/'}, {'name': 'corviknight', 'url': 'https://pokeapi.co/api/v2/pokemon/823/'}, {'name': 'blipbug', 'url': 'https://pokeapi.co/api/v2/pokemon/824/'}, {'name': 'dottler', 'url': 'https://pokeapi.co/api/v2/pokemon/825/'}, {'name': 'orbeetle', 'url': 'https://pokeapi.co/api/v2/pokemon/826/'}, {'name': 'nickit', 'url': 'https://pokeapi.co/api/v2/pokemon/827/'}, {'name': 'thievul', 'url': 'https://pokeapi.co/api/v2/pokemon/828/'}, {'name': 'gossifleur', 'url': 'https://pokeapi.co/api/v2/pokemon/829/'}, {'name': 'eldegoss', 'url': 'https://pokeapi.co/api/v2/pokemon/830/'}, {'name': 'wooloo', 'url': 'https://pokeapi.co/api/v2/pokemon/831/'}, {'name': 'dubwool', 'url': 'https://pokeapi.co/api/v2/pokemon/832/'}, {'name': 'chewtle', 'url': 'https://pokeapi.co/api/v2/pokemon/833/'}, {'name': 'drednaw', 'url': 'https://pokeapi.co/api/v2/pokemon/834/'}, {'name': 'yamper', 'url': 'https://pokeapi.co/api/v2/pokemon/835/'}, {'name': 'boltund', 'url': 'https://pokeapi.co/api/v2/pokemon/836/'}, {'name': 'rolycoly', 'url': 'https://pokeapi.co/api/v2/pokemon/837/'}, {'name': 'carkol', 'url': 'https://pokeapi.co/api/v2/pokemon/838/'}, {'name': 'coalossal', 'url': 'https://pokeapi.co/api/v2/pokemon/839/'}, {'name': 'applin', 'url': 'https://pokeapi.co/api/v2/pokemon/840/'}, {'name': 'flapple', 'url': 'https://pokeapi.co/api/v2/pokemon/841/'}, {'name': 'appletun', 'url': 'https://pokeapi.co/api/v2/pokemon/842/'}, {'name': 'silicobra', 'url': 'https://pokeapi.co/api/v2/pokemon/843/'}, {'name': 'sandaconda', 'url': 'https://pokeapi.co/api/v2/pokemon/844/'}, {'name': 'cramorant', 'url': 'https://pokeapi.co/api/v2/pokemon/845/'}, {'name': 'arrokuda', 'url': 'https://pokeapi.co/api/v2/pokemon/846/'}, {'name': 'barraskewda', 'url': 'https://pokeapi.co/api/v2/pokemon/847/'}, {'name': 'toxel', 'url': 'https://pokeapi.co/api/v2/pokemon/848/'}, {'name': 'toxtricity-amped', 'url': 'https://pokeapi.co/api/v2/pokemon/849/'}, {'name': 'sizzlipede', 'url': 'https://pokeapi.co/api/v2/pokemon/850/'}, {'name': 'centiskorch', 'url': 'https://pokeapi.co/api/v2/pokemon/851/'}, {'name': 'clobbopus', 'url': 'https://pokeapi.co/api/v2/pokemon/852/'}, {'name': 'grapploct', 'url': 'https://pokeapi.co/api/v2/pokemon/853/'}, {'name': 'sinistea', 'url': 'https://pokeapi.co/api/v2/pokemon/854/'}, {'name': 'polteageist', 'url': 'https://pokeapi.co/api/v2/pokemon/855/'}, {'name': 'hatenna', 'url': 'https://pokeapi.co/api/v2/pokemon/856/'}, {'name': 'hattrem', 'url': 'https://pokeapi.co/api/v2/pokemon/857/'}, {'name': 'hatterene', 'url': 'https://pokeapi.co/api/v2/pokemon/858/'}, {'name': 'impidimp', 'url': 'https://pokeapi.co/api/v2/pokemon/859/'}, {'name': 'morgrem', 'url': 'https://pokeapi.co/api/v2/pokemon/860/'}, {'name': 'grimmsnarl', 'url': 'https://pokeapi.co/api/v2/pokemon/861/'}, {'name': 'obstagoon', 'url': 'https://pokeapi.co/api/v2/pokemon/862/'}, {'name': 'perrserker', 'url': 'https://pokeapi.co/api/v2/pokemon/863/'}, {'name': 'cursola', 'url': 'https://pokeapi.co/api/v2/pokemon/864/'}, {'name': 'sirfetchd', 'url': 'https://pokeapi.co/api/v2/pokemon/865/'}, {'name': 'mr-rime', 'url': 'https://pokeapi.co/api/v2/pokemon/866/'}, {'name': 'runerigus', 'url': 'https://pokeapi.co/api/v2/pokemon/867/'}, {'name': 'milcery', 'url': 'https://pokeapi.co/api/v2/pokemon/868/'}, {'name': 'alcremie', 'url': 'https://pokeapi.co/api/v2/pokemon/869/'}, {'name': 'falinks', 'url': 'https://pokeapi.co/api/v2/pokemon/870/'}, {'name': 'pincurchin', 'url': 'https://pokeapi.co/api/v2/pokemon/871/'}, {'name': 'snom', 'url': 'https://pokeapi.co/api/v2/pokemon/872/'}, {'name': 'frosmoth', 'url': 'https://pokeapi.co/api/v2/pokemon/873/'}, {'name': 'stonjourner', 'url': 'https://pokeapi.co/api/v2/pokemon/874/'}, {'name': 'eiscue-ice', 'url': 'https://pokeapi.co/api/v2/pokemon/875/'}, {'name': 'indeedee-male', 'url': 'https://pokeapi.co/api/v2/pokemon/876/'}, {'name': 'morpeko-full-belly', 'url': 'https://pokeapi.co/api/v2/pokemon/877/'}, {'name': 'cufant', 'url': 'https://pokeapi.co/api/v2/pokemon/878/'}, {'name': 'copperajah', 'url': 'https://pokeapi.co/api/v2/pokemon/879/'}, {'name': 'dracozolt', 'url': 'https://pokeapi.co/api/v2/pokemon/880/'}, {'name': 'arctozolt', 'url': 'https://pokeapi.co/api/v2/pokemon/881/'}, {'name': 'dracovish', 'url': 'https://pokeapi.co/api/v2/pokemon/882/'}, {'name': 'arctovish', 'url': 'https://pokeapi.co/api/v2/pokemon/883/'}, {'name': 'duraludon', 'url': 'https://pokeapi.co/api/v2/pokemon/884/'}, {'name': 'dreepy', 'url': 'https://pokeapi.co/api/v2/pokemon/885/'}, {'name': 'drakloak', 'url': 'https://pokeapi.co/api/v2/pokemon/886/'}, {'name': 'dragapult', 'url': 'https://pokeapi.co/api/v2/pokemon/887/'}, {'name': 'zacian', 'url': 'https://pokeapi.co/api/v2/pokemon/888/'}, {'name': 'zamazenta', 'url': 'https://pokeapi.co/api/v2/pokemon/889/'}, {'name': 'eternatus', 'url': 'https://pokeapi.co/api/v2/pokemon/890/'}, {'name': 'kubfu', 'url': 'https://pokeapi.co/api/v2/pokemon/891/'}, {'name': 'urshifu-single-strike', 'url': 'https://pokeapi.co/api/v2/pokemon/892/'}, {'name': 'zarude', 'url': 'https://pokeapi.co/api/v2/pokemon/893/'}, {'name': 'regieleki', 'url': 'https://pokeapi.co/api/v2/pokemon/894/'}, {'name': 'regidrago', 'url': 'https://pokeapi.co/api/v2/pokemon/895/'}, {'name': 'glastrier', 'url': 'https://pokeapi.co/api/v2/pokemon/896/'}, {'name': 'spectrier', 'url': 'https://pokeapi.co/api/v2/pokemon/897/'}, {'name': 'calyrex', 'url': 'https://pokeapi.co/api/v2/pokemon/898/'}, {'name': 'wyrdeer', 'url': 'https://pokeapi.co/api/v2/pokemon/899/'}, {'name': 'kleavor', 'url': 'https://pokeapi.co/api/v2/pokemon/900/'}, {'name': 'ursaluna', 'url': 'https://pokeapi.co/api/v2/pokemon/901/'}, {'name': 'basculegion-male', 'url': 'https://pokeapi.co/api/v2/pokemon/902/'}, {'name': 'sneasler', 'url': 'https://pokeapi.co/api/v2/pokemon/903/'}, {'name': 'overqwil', 'url': 'https://pokeapi.co/api/v2/pokemon/904/'}, {'name': 'enamorus-incarnate', 'url': 'https://pokeapi.co/api/v2/pokemon/905/'}, {'name': 'deoxys-attack', 'url': 'https://pokeapi.co/api/v2/pokemon/10001/'}, {'name': 'deoxys-defense', 'url': 'https://pokeapi.co/api/v2/pokemon/10002/'}, {'name': 'deoxys-speed', 'url': 'https://pokeapi.co/api/v2/pokemon/10003/'}, {'name': 'wormadam-sandy', 'url': 'https://pokeapi.co/api/v2/pokemon/10004/'}, {'name': 'wormadam-trash', 'url': 'https://pokeapi.co/api/v2/pokemon/10005/'}, {'name': 'shaymin-sky', 'url': 'https://pokeapi.co/api/v2/pokemon/10006/'}, {'name': 'giratina-origin', 'url': 'https://pokeapi.co/api/v2/pokemon/10007/'}, {'name': 'rotom-heat', 'url': 'https://pokeapi.co/api/v2/pokemon/10008/'}, {'name': 'rotom-wash', 'url': 'https://pokeapi.co/api/v2/pokemon/10009/'}, {'name': 'rotom-frost', 'url': 'https://pokeapi.co/api/v2/pokemon/10010/'}, {'name': 'rotom-fan', 'url': 'https://pokeapi.co/api/v2/pokemon/10011/'}, {'name': 'rotom-mow', 'url': 'https://pokeapi.co/api/v2/pokemon/10012/'}, {'name': 'castform-sunny', 'url': 'https://pokeapi.co/api/v2/pokemon/10013/'}, {'name': 'castform-rainy', 'url': 'https://pokeapi.co/api/v2/pokemon/10014/'}, {'name': 'castform-snowy', 'url': 'https://pokeapi.co/api/v2/pokemon/10015/'}, {'name': 'basculin-blue-striped', 'url': 'https://pokeapi.co/api/v2/pokemon/10016/'}, {'name': 'darmanitan-zen', 'url': 'https://pokeapi.co/api/v2/pokemon/10017/'}, {'name': 'meloetta-pirouette', 'url': 'https://pokeapi.co/api/v2/pokemon/10018/'}, {'name': 'tornadus-therian', 'url': 'https://pokeapi.co/api/v2/pokemon/10019/'}, {'name': 'thundurus-therian', 'url': 'https://pokeapi.co/api/v2/pokemon/10020/'}, {'name': 'landorus-therian', 'url': 'https://pokeapi.co/api/v2/pokemon/10021/'}, {'name': 'kyurem-black', 'url': 'https://pokeapi.co/api/v2/pokemon/10022/'}, {'name': 'kyurem-white', 'url': 'https://pokeapi.co/api/v2/pokemon/10023/'}, {'name': 'keldeo-resolute', 'url': 'https://pokeapi.co/api/v2/pokemon/10024/'}, {'name': 'meowstic-female', 'url': 'https://pokeapi.co/api/v2/pokemon/10025/'}, {'name': 'aegislash-blade', 'url': 'https://pokeapi.co/api/v2/pokemon/10026/'}, {'name': 'pumpkaboo-small', 'url': 'https://pokeapi.co/api/v2/pokemon/10027/'}, {'name': 'pumpkaboo-large', 'url': 'https://pokeapi.co/api/v2/pokemon/10028/'}, {'name': 'pumpkaboo-super', 'url': 'https://pokeapi.co/api/v2/pokemon/10029/'}, {'name': 'gourgeist-small', 'url': 'https://pokeapi.co/api/v2/pokemon/10030/'}, {'name': 'gourgeist-large', 'url': 'https://pokeapi.co/api/v2/pokemon/10031/'}, {'name': 'gourgeist-super', 'url': 'https://pokeapi.co/api/v2/pokemon/10032/'}, {'name': 'venusaur-mega', 'url': 'https://pokeapi.co/api/v2/pokemon/10033/'}, {'name': 'charizard-mega-x', 'url': 'https://pokeapi.co/api/v2/pokemon/10034/'}, {'name': 'charizard-mega-y', 'url': 'https://pokeapi.co/api/v2/pokemon/10035/'}, {'name': 'blastoise-mega', 'url': 'https://pokeapi.co/api/v2/pokemon/10036/'}, {'name': 'alakazam-mega', 'url': 'https://pokeapi.co/api/v2/pokemon/10037/'}, {'name': 'gengar-mega', 'url': 'https://pokeapi.co/api/v2/pokemon/10038/'}, {'name': 'kangaskhan-mega', 'url': 'https://pokeapi.co/api/v2/pokemon/10039/'}, {'name': 'pinsir-mega', 'url': 'https://pokeapi.co/api/v2/pokemon/10040/'}, {'name': 'gyarados-mega', 'url': 'https://pokeapi.co/api/v2/pokemon/10041/'}, {'name': 'aerodactyl-mega', 'url': 'https://pokeapi.co/api/v2/pokemon/10042/'}, {'name': 'mewtwo-mega-x', 'url': 'https://pokeapi.co/api/v2/pokemon/10043/'}, {'name': 'mewtwo-mega-y', 'url': 'https://pokeapi.co/api/v2/pokemon/10044/'}, {'name': 'ampharos-mega', 'url': 'https://pokeapi.co/api/v2/pokemon/10045/'}, {'name': 'scizor-mega', 'url': 'https://pokeapi.co/api/v2/pokemon/10046/'}, {'name': 'heracross-mega', 'url': 'https://pokeapi.co/api/v2/pokemon/10047/'}, {'name': 'houndoom-mega', 'url': 'https://pokeapi.co/api/v2/pokemon/10048/'}, {'name': 'tyranitar-mega', 'url': 'https://pokeapi.co/api/v2/pokemon/10049/'}, {'name': 'blaziken-mega', 'url': 'https://pokeapi.co/api/v2/pokemon/10050/'}, {'name': 'gardevoir-mega', 'url': 'https://pokeapi.co/api/v2/pokemon/10051/'}, {'name': 'mawile-mega', 'url': 'https://pokeapi.co/api/v2/pokemon/10052/'}, {'name': 'aggron-mega', 'url': 'https://pokeapi.co/api/v2/pokemon/10053/'}, {'name': 'medicham-mega', 'url': 'https://pokeapi.co/api/v2/pokemon/10054/'}, {'name': 'manectric-mega', 'url': 'https://pokeapi.co/api/v2/pokemon/10055/'}, {'name': 'banette-mega', 'url': 'https://pokeapi.co/api/v2/pokemon/10056/'}, {'name': 'absol-mega', 'url': 'https://pokeapi.co/api/v2/pokemon/10057/'}, {'name': 'garchomp-mega', 'url': 'https://pokeapi.co/api/v2/pokemon/10058/'}, {'name': 'lucario-mega', 'url': 'https://pokeapi.co/api/v2/pokemon/10059/'}, {'name': 'abomasnow-mega', 'url': 'https://pokeapi.co/api/v2/pokemon/10060/'}, {'name': 'floette-eternal', 'url': 'https://pokeapi.co/api/v2/pokemon/10061/'}, {'name': 'latias-mega', 'url': 'https://pokeapi.co/api/v2/pokemon/10062/'}, {'name': 'latios-mega', 'url': 'https://pokeapi.co/api/v2/pokemon/10063/'}, {'name': 'swampert-mega', 'url': 'https://pokeapi.co/api/v2/pokemon/10064/'}, {'name': 'sceptile-mega', 'url': 'https://pokeapi.co/api/v2/pokemon/10065/'}, {'name': 'sableye-mega', 'url': 'https://pokeapi.co/api/v2/pokemon/10066/'}, {'name': 'altaria-mega', 'url': 'https://pokeapi.co/api/v2/pokemon/10067/'}, {'name': 'gallade-mega', 'url': 'https://pokeapi.co/api/v2/pokemon/10068/'}, {'name': 'audino-mega', 'url': 'https://pokeapi.co/api/v2/pokemon/10069/'}, {'name': 'sharpedo-mega', 'url': 'https://pokeapi.co/api/v2/pokemon/10070/'}, {'name': 'slowbro-mega', 'url': 'https://pokeapi.co/api/v2/pokemon/10071/'}, {'name': 'steelix-mega', 'url': 'https://pokeapi.co/api/v2/pokemon/10072/'}, {'name': 'pidgeot-mega', 'url': 'https://pokeapi.co/api/v2/pokemon/10073/'}, {'name': 'glalie-mega', 'url': 'https://pokeapi.co/api/v2/pokemon/10074/'}, {'name': 'diancie-mega', 'url': 'https://pokeapi.co/api/v2/pokemon/10075/'}, {'name': 'metagross-mega', 'url': 'https://pokeapi.co/api/v2/pokemon/10076/'}, {'name': 'kyogre-primal', 'url': 'https://pokeapi.co/api/v2/pokemon/10077/'}, {'name': 'groudon-primal', 'url': 'https://pokeapi.co/api/v2/pokemon/10078/'}, {'name': 'rayquaza-mega', 'url': 'https://pokeapi.co/api/v2/pokemon/10079/'}, {'name': 'pikachu-rock-star', 'url': 'https://pokeapi.co/api/v2/pokemon/10080/'}, {'name': 'pikachu-belle', 'url': 'https://pokeapi.co/api/v2/pokemon/10081/'}, {'name': 'pikachu-pop-star', 'url': 'https://pokeapi.co/api/v2/pokemon/10082/'}, {'name': 'pikachu-phd', 'url': 'https://pokeapi.co/api/v2/pokemon/10083/'}, {'name': 'pikachu-libre', 'url': 'https://pokeapi.co/api/v2/pokemon/10084/'}, {'name': 'pikachu-cosplay', 'url': 'https://pokeapi.co/api/v2/pokemon/10085/'}, {'name': 'hoopa-unbound', 'url': 'https://pokeapi.co/api/v2/pokemon/10086/'}, {'name': 'camerupt-mega', 'url': 'https://pokeapi.co/api/v2/pokemon/10087/'}, {'name': 'lopunny-mega', 'url': 'https://pokeapi.co/api/v2/pokemon/10088/'}, {'name': 'salamence-mega', 'url': 'https://pokeapi.co/api/v2/pokemon/10089/'}, {'name': 'beedrill-mega', 'url': 'https://pokeapi.co/api/v2/pokemon/10090/'}, {'name': 'rattata-alola', 'url': 'https://pokeapi.co/api/v2/pokemon/10091/'}, {'name': 'raticate-alola', 'url': 'https://pokeapi.co/api/v2/pokemon/10092/'}, {'name': 'raticate-totem-alola', 'url': 'https://pokeapi.co/api/v2/pokemon/10093/'}, {'name': 'pikachu-original-cap', 'url': 'https://pokeapi.co/api/v2/pokemon/10094/'}, {'name': 'pikachu-hoenn-cap', 'url': 'https://pokeapi.co/api/v2/pokemon/10095/'}, {'name': 'pikachu-sinnoh-cap', 'url': 'https://pokeapi.co/api/v2/pokemon/10096/'}, {'name': 'pikachu-unova-cap', 'url': 'https://pokeapi.co/api/v2/pokemon/10097/'}, {'name': 'pikachu-kalos-cap', 'url': 'https://pokeapi.co/api/v2/pokemon/10098/'}, {'name': 'pikachu-alola-cap', 'url': 'https://pokeapi.co/api/v2/pokemon/10099/'}, {'name': 'raichu-alola', 'url': 'https://pokeapi.co/api/v2/pokemon/10100/'}, {'name': 'sandshrew-alola', 'url': 'https://pokeapi.co/api/v2/pokemon/10101/'}, {'name': 'sandslash-alola', 'url': 'https://pokeapi.co/api/v2/pokemon/10102/'}, {'name': 'vulpix-alola', 'url': 'https://pokeapi.co/api/v2/pokemon/10103/'}, {'name': 'ninetales-alola', 'url': 'https://pokeapi.co/api/v2/pokemon/10104/'}, {'name': 'diglett-alola', 'url': 'https://pokeapi.co/api/v2/pokemon/10105/'}, {'name': 'dugtrio-alola', 'url': 'https://pokeapi.co/api/v2/pokemon/10106/'}, {'name': 'meowth-alola', 'url': 'https://pokeapi.co/api/v2/pokemon/10107/'}, {'name': 'persian-alola', 'url': 'https://pokeapi.co/api/v2/pokemon/10108/'}, {'name': 'geodude-alola', 'url': 'https://pokeapi.co/api/v2/pokemon/10109/'}, {'name': 'graveler-alola', 'url': 'https://pokeapi.co/api/v2/pokemon/10110/'}, {'name': 'golem-alola', 'url': 'https://pokeapi.co/api/v2/pokemon/10111/'}, {'name': 'grimer-alola', 'url': 'https://pokeapi.co/api/v2/pokemon/10112/'}, {'name': 'muk-alola', 'url': 'https://pokeapi.co/api/v2/pokemon/10113/'}, {'name': 'exeggutor-alola', 'url': 'https://pokeapi.co/api/v2/pokemon/10114/'}, {'name': 'marowak-alola', 'url': 'https://pokeapi.co/api/v2/pokemon/10115/'}, {'name': 'greninja-battle-bond', 'url': 'https://pokeapi.co/api/v2/pokemon/10116/'}, {'name': 'greninja-ash', 'url': 'https://pokeapi.co/api/v2/pokemon/10117/'}, {'name': 'zygarde-10-power-construct', 'url': 'https://pokeapi.co/api/v2/pokemon/10118/'}, {'name': 'zygarde-50-power-construct', 'url': 'https://pokeapi.co/api/v2/pokemon/10119/'}, {'name': 'zygarde-complete', 'url': 'https://pokeapi.co/api/v2/pokemon/10120/'}, {'name': 'gumshoos-totem', 'url': 'https://pokeapi.co/api/v2/pokemon/10121/'}, {'name': 'vikavolt-totem', 'url': 'https://pokeapi.co/api/v2/pokemon/10122/'}, {'name': 'oricorio-pom-pom', 'url': 'https://pokeapi.co/api/v2/pokemon/10123/'}, {'name': 'oricorio-pau', 'url': 'https://pokeapi.co/api/v2/pokemon/10124/'}, {'name': 'oricorio-sensu', 'url': 'https://pokeapi.co/api/v2/pokemon/10125/'}, {'name': 'lycanroc-midnight', 'url': 'https://pokeapi.co/api/v2/pokemon/10126/'}, {'name': 'wishiwashi-school', 'url': 'https://pokeapi.co/api/v2/pokemon/10127/'}, {'name': 'lurantis-totem', 'url': 'https://pokeapi.co/api/v2/pokemon/10128/'}, {'name': 'salazzle-totem', 'url': 'https://pokeapi.co/api/v2/pokemon/10129/'}, {'name': 'minior-orange-meteor', 'url': 'https://pokeapi.co/api/v2/pokemon/10130/'}, {'name': 'minior-yellow-meteor', 'url': 'https://pokeapi.co/api/v2/pokemon/10131/'}, {'name': 'minior-green-meteor', 'url': 'https://pokeapi.co/api/v2/pokemon/10132/'}, {'name': 'minior-blue-meteor', 'url': 'https://pokeapi.co/api/v2/pokemon/10133/'}, {'name': 'minior-indigo-meteor', 'url': 'https://pokeapi.co/api/v2/pokemon/10134/'}, {'name': 'minior-violet-meteor', 'url': 'https://pokeapi.co/api/v2/pokemon/10135/'}, {'name': 'minior-red', 'url': 'https://pokeapi.co/api/v2/pokemon/10136/'}, {'name': 'minior-orange', 'url': 'https://pokeapi.co/api/v2/pokemon/10137/'}, {'name': 'minior-yellow', 'url': 'https://pokeapi.co/api/v2/pokemon/10138/'}, {'name': 'minior-green', 'url': 'https://pokeapi.co/api/v2/pokemon/10139/'}, {'name': 'minior-blue', 'url': 'https://pokeapi.co/api/v2/pokemon/10140/'}, {'name': 'minior-indigo', 'url': 'https://pokeapi.co/api/v2/pokemon/10141/'}, {'name': 'minior-violet', 'url': 'https://pokeapi.co/api/v2/pokemon/10142/'}, {'name': 'mimikyu-busted', 'url': 'https://pokeapi.co/api/v2/pokemon/10143/'}, {'name': 'mimikyu-totem-disguised', 'url': 'https://pokeapi.co/api/v2/pokemon/10144/'}, {'name': 'mimikyu-totem-busted', 'url': 'https://pokeapi.co/api/v2/pokemon/10145/'}, {'name': 'kommo-o-totem', 'url': 'https://pokeapi.co/api/v2/pokemon/10146/'}, {'name': 'magearna-original', 'url': 'https://pokeapi.co/api/v2/pokemon/10147/'}, {'name': 'pikachu-partner-cap', 'url': 'https://pokeapi.co/api/v2/pokemon/10148/'}, {'name': 'marowak-totem', 'url': 'https://pokeapi.co/api/v2/pokemon/10149/'}, {'name': 'ribombee-totem', 'url': 'https://pokeapi.co/api/v2/pokemon/10150/'}, {'name': 'rockruff-own-tempo', 'url': 'https://pokeapi.co/api/v2/pokemon/10151/'}, {'name': 'lycanroc-dusk', 'url': 'https://pokeapi.co/api/v2/pokemon/10152/'}, {'name': 'araquanid-totem', 'url': 'https://pokeapi.co/api/v2/pokemon/10153/'}, {'name': 'togedemaru-totem', 'url': 'https://pokeapi.co/api/v2/pokemon/10154/'}, {'name': 'necrozma-dusk', 'url': 'https://pokeapi.co/api/v2/pokemon/10155/'}, {'name': 'necrozma-dawn', 'url': 'https://pokeapi.co/api/v2/pokemon/10156/'}, {'name': 'necrozma-ultra', 'url': 'https://pokeapi.co/api/v2/pokemon/10157/'}, {'name': 'pikachu-starter', 'url': 'https://pokeapi.co/api/v2/pokemon/10158/'}, {'name': 'eevee-starter', 'url': 'https://pokeapi.co/api/v2/pokemon/10159/'}, {'name': 'pikachu-world-cap', 'url': 'https://pokeapi.co/api/v2/pokemon/10160/'}, {'name': 'meowth-galar', 'url': 'https://pokeapi.co/api/v2/pokemon/10161/'}, {'name': 'ponyta-galar', 'url': 'https://pokeapi.co/api/v2/pokemon/10162/'}, {'name': 'rapidash-galar', 'url': 'https://pokeapi.co/api/v2/pokemon/10163/'}, {'name': 'slowpoke-galar', 'url': 'https://pokeapi.co/api/v2/pokemon/10164/'}, {'name': 'slowbro-galar', 'url': 'https://pokeapi.co/api/v2/pokemon/10165/'}, {'name': 'farfetchd-galar', 'url': 'https://pokeapi.co/api/v2/pokemon/10166/'}, {'name': 'weezing-galar', 'url': 'https://pokeapi.co/api/v2/pokemon/10167/'}, {'name': 'mr-mime-galar', 'url': 'https://pokeapi.co/api/v2/pokemon/10168/'}, {'name': 'articuno-galar', 'url': 'https://pokeapi.co/api/v2/pokemon/10169/'}, {'name': 'zapdos-galar', 'url': 'https://pokeapi.co/api/v2/pokemon/10170/'}, {'name': 'moltres-galar', 'url': 'https://pokeapi.co/api/v2/pokemon/10171/'}, {'name': 'slowking-galar', 'url': 'https://pokeapi.co/api/v2/pokemon/10172/'}, {'name': 'corsola-galar', 'url': 'https://pokeapi.co/api/v2/pokemon/10173/'}, {'name': 'zigzagoon-galar', 'url': 'https://pokeapi.co/api/v2/pokemon/10174/'}, {'name': 'linoone-galar', 'url': 'https://pokeapi.co/api/v2/pokemon/10175/'}, {'name': 'darumaka-galar', 'url': 'https://pokeapi.co/api/v2/pokemon/10176/'}, {'name': 'darmanitan-galar-standard', 'url': 'https://pokeapi.co/api/v2/pokemon/10177/'}, {'name': 'darmanitan-galar-zen', 'url': 'https://pokeapi.co/api/v2/pokemon/10178/'}, {'name': 'yamask-galar', 'url': 'https://pokeapi.co/api/v2/pokemon/10179/'}, {'name': 'stunfisk-galar', 'url': 'https://pokeapi.co/api/v2/pokemon/10180/'}, {'name': 'zygarde-10', 'url': 'https://pokeapi.co/api/v2/pokemon/10181/'}, {'name': 'cramorant-gulping', 'url': 'https://pokeapi.co/api/v2/pokemon/10182/'}, {'name': 'cramorant-gorging', 'url': 'https://pokeapi.co/api/v2/pokemon/10183/'}, {'name': 'toxtricity-low-key', 'url': 'https://pokeapi.co/api/v2/pokemon/10184/'}, {'name': 'eiscue-noice', 'url': 'https://pokeapi.co/api/v2/pokemon/10185/'}, {'name': 'indeedee-female', 'url': 'https://pokeapi.co/api/v2/pokemon/10186/'}, {'name': 'morpeko-hangry', 'url': 'https://pokeapi.co/api/v2/pokemon/10187/'}, {'name': 'zacian-crowned', 'url': 'https://pokeapi.co/api/v2/pokemon/10188/'}, {'name': 'zamazenta-crowned', 'url': 'https://pokeapi.co/api/v2/pokemon/10189/'}, {'name': 'eternatus-eternamax', 'url': 'https://pokeapi.co/api/v2/pokemon/10190/'}, {'name': 'urshifu-rapid-strike', 'url': 'https://pokeapi.co/api/v2/pokemon/10191/'}, {'name': 'zarude-dada', 'url': 'https://pokeapi.co/api/v2/pokemon/10192/'}, {'name': 'calyrex-ice', 'url': 'https://pokeapi.co/api/v2/pokemon/10193/'}, {'name': 'calyrex-shadow', 'url': 'https://pokeapi.co/api/v2/pokemon/10194/'}, {'name': 'venusaur-gmax', 'url': 'https://pokeapi.co/api/v2/pokemon/10195/'}, {'name': 'charizard-gmax', 'url': 'https://pokeapi.co/api/v2/pokemon/10196/'}, {'name': 'blastoise-gmax', 'url': 'https://pokeapi.co/api/v2/pokemon/10197/'}, {'name': 'butterfree-gmax', 'url': 'https://pokeapi.co/api/v2/pokemon/10198/'}, {'name': 'pikachu-gmax', 'url': 'https://pokeapi.co/api/v2/pokemon/10199/'}, {'name': 'meowth-gmax', 'url': 'https://pokeapi.co/api/v2/pokemon/10200/'}, {'name': 'machamp-gmax', 'url': 'https://pokeapi.co/api/v2/pokemon/10201/'}, {'name': 'gengar-gmax', 'url': 'https://pokeapi.co/api/v2/pokemon/10202/'}, {'name': 'kingler-gmax', 'url': 'https://pokeapi.co/api/v2/pokemon/10203/'}, {'name': 'lapras-gmax', 'url': 'https://pokeapi.co/api/v2/pokemon/10204/'}, {'name': 'eevee-gmax', 'url': 'https://pokeapi.co/api/v2/pokemon/10205/'}, {'name': 'snorlax-gmax', 'url': 'https://pokeapi.co/api/v2/pokemon/10206/'}, {'name': 'garbodor-gmax', 'url': 'https://pokeapi.co/api/v2/pokemon/10207/'}, {'name': 'melmetal-gmax', 'url': 'https://pokeapi.co/api/v2/pokemon/10208/'}, {'name': 'rillaboom-gmax', 'url': 'https://pokeapi.co/api/v2/pokemon/10209/'}, {'name': 'cinderace-gmax', 'url': 'https://pokeapi.co/api/v2/pokemon/10210/'}, {'name': 'inteleon-gmax', 'url': 'https://pokeapi.co/api/v2/pokemon/10211/'}, {'name': 'corviknight-gmax', 'url': 'https://pokeapi.co/api/v2/pokemon/10212/'}, {'name': 'orbeetle-gmax', 'url': 'https://pokeapi.co/api/v2/pokemon/10213/'}, {'name': 'drednaw-gmax', 'url': 'https://pokeapi.co/api/v2/pokemon/10214/'}, {'name': 'coalossal-gmax', 'url': 'https://pokeapi.co/api/v2/pokemon/10215/'}, {'name': 'flapple-gmax', 'url': 'https://pokeapi.co/api/v2/pokemon/10216/'}, {'name': 'appletun-gmax', 'url': 'https://pokeapi.co/api/v2/pokemon/10217/'}, {'name': 'sandaconda-gmax', 'url': 'https://pokeapi.co/api/v2/pokemon/10218/'}, {'name': 'toxtricity-amped-gmax', 'url': 'https://pokeapi.co/api/v2/pokemon/10219/'}, {'name': 'centiskorch-gmax', 'url': 'https://pokeapi.co/api/v2/pokemon/10220/'}, {'name': 'hatterene-gmax', 'url': 'https://pokeapi.co/api/v2/pokemon/10221/'}, {'name': 'grimmsnarl-gmax', 'url': 'https://pokeapi.co/api/v2/pokemon/10222/'}, {'name': 'alcremie-gmax', 'url': 'https://pokeapi.co/api/v2/pokemon/10223/'}, {'name': 'copperajah-gmax', 'url': 'https://pokeapi.co/api/v2/pokemon/10224/'}, {'name': 'duraludon-gmax', 'url': 'https://pokeapi.co/api/v2/pokemon/10225/'}, {'name': 'urshifu-single-strike-gmax', 'url': 'https://pokeapi.co/api/v2/pokemon/10226/'}, {'name': 'urshifu-rapid-strike-gmax', 'url': 'https://pokeapi.co/api/v2/pokemon/10227/'}, {'name': 'toxtricity-low-key-gmax', 'url': 'https://pokeapi.co/api/v2/pokemon/10228/'}, {'name': 'growlithe-hisui', 'url': 'https://pokeapi.co/api/v2/pokemon/10229/'}, {'name': 'arcanine-hisui', 'url': 'https://pokeapi.co/api/v2/pokemon/10230/'}, {'name': 'voltorb-hisui', 'url': 'https://pokeapi.co/api/v2/pokemon/10231/'}, {'name': 'electrode-hisui', 'url': 'https://pokeapi.co/api/v2/pokemon/10232/'}, {'name': 'typhlosion-hisui', 'url': 'https://pokeapi.co/api/v2/pokemon/10233/'}, {'name': 'qwilfish-hisui', 'url': 'https://pokeapi.co/api/v2/pokemon/10234/'}, {'name': 'sneasel-hisui', 'url': 'https://pokeapi.co/api/v2/pokemon/10235/'}, {'name': 'samurott-hisui', 'url': 'https://pokeapi.co/api/v2/pokemon/10236/'}, {'name': 'lilligant-hisui', 'url': 'https://pokeapi.co/api/v2/pokemon/10237/'}, {'name': 'zorua-hisui', 'url': 'https://pokeapi.co/api/v2/pokemon/10238/'}, {'name': 'zoroark-hisui', 'url': 'https://pokeapi.co/api/v2/pokemon/10239/'}, {'name': 'braviary-hisui', 'url': 'https://pokeapi.co/api/v2/pokemon/10240/'}, {'name': 'sliggoo-hisui', 'url': 'https://pokeapi.co/api/v2/pokemon/10241/'}, {'name': 'goodra-hisui', 'url': 'https://pokeapi.co/api/v2/pokemon/10242/'}, {'name': 'avalugg-hisui', 'url': 'https://pokeapi.co/api/v2/pokemon/10243/'}, {'name': 'decidueye-hisui', 'url': 'https://pokeapi.co/api/v2/pokemon/10244/'}, {'name': 'dialga-origin', 'url': 'https://pokeapi.co/api/v2/pokemon/10245/'}, {'name': 'palkia-origin', 'url': 'https://pokeapi.co/api/v2/pokemon/10246/'}, {'name': 'basculin-white-striped', 'url': 'https://pokeapi.co/api/v2/pokemon/10247/'}, {'name': 'basculegion-female', 'url': 'https://pokeapi.co/api/v2/pokemon/10248/'}, {'name': 'enamorus-therian', 'url': 'https://pokeapi.co/api/v2/pokemon/10249/'}]\n",
            "['bulbasaur', 'ivysaur', 'venusaur', 'charmander', 'charmeleon', 'charizard', 'squirtle', 'wartortle', 'blastoise', 'caterpie', 'metapod', 'butterfree', 'weedle', 'kakuna', 'beedrill', 'pidgey', 'pidgeotto', 'pidgeot', 'rattata', 'raticate', 'spearow', 'fearow', 'ekans', 'arbok', 'pikachu', 'raichu', 'sandshrew', 'sandslash', 'nidoran-f', 'nidorina', 'nidoqueen', 'nidoran-m', 'nidorino', 'nidoking', 'clefairy', 'clefable', 'vulpix', 'ninetales', 'jigglypuff', 'wigglytuff', 'zubat', 'golbat', 'oddish', 'gloom', 'vileplume', 'paras', 'parasect', 'venonat', 'venomoth', 'diglett', 'dugtrio', 'meowth', 'persian', 'psyduck', 'golduck', 'mankey', 'primeape', 'growlithe', 'arcanine', 'poliwag', 'poliwhirl', 'poliwrath', 'abra', 'kadabra', 'alakazam', 'machop', 'machoke', 'machamp', 'bellsprout', 'weepinbell', 'victreebel', 'tentacool', 'tentacruel', 'geodude', 'graveler', 'golem', 'ponyta', 'rapidash', 'slowpoke', 'slowbro', 'magnemite', 'magneton', 'farfetchd', 'doduo', 'dodrio', 'seel', 'dewgong', 'grimer', 'muk', 'shellder', 'cloyster', 'gastly', 'haunter', 'gengar', 'onix', 'drowzee', 'hypno', 'krabby', 'kingler', 'voltorb', 'electrode', 'exeggcute', 'exeggutor', 'cubone', 'marowak', 'hitmonlee', 'hitmonchan', 'lickitung', 'koffing', 'weezing', 'rhyhorn', 'rhydon', 'chansey', 'tangela', 'kangaskhan', 'horsea', 'seadra', 'goldeen', 'seaking', 'staryu', 'starmie', 'mr-mime', 'scyther', 'jynx', 'electabuzz', 'magmar', 'pinsir', 'tauros', 'magikarp', 'gyarados', 'lapras', 'ditto', 'eevee', 'vaporeon', 'jolteon', 'flareon', 'porygon', 'omanyte', 'omastar', 'kabuto', 'kabutops', 'aerodactyl', 'snorlax', 'articuno', 'zapdos', 'moltres', 'dratini', 'dragonair', 'dragonite', 'mewtwo', 'mew', 'chikorita', 'bayleef', 'meganium', 'cyndaquil', 'quilava', 'typhlosion', 'totodile', 'croconaw', 'feraligatr', 'sentret', 'furret', 'hoothoot', 'noctowl', 'ledyba', 'ledian', 'spinarak', 'ariados', 'crobat', 'chinchou', 'lanturn', 'pichu', 'cleffa', 'igglybuff', 'togepi', 'togetic', 'natu', 'xatu', 'mareep', 'flaaffy', 'ampharos', 'bellossom', 'marill', 'azumarill', 'sudowoodo', 'politoed', 'hoppip', 'skiploom', 'jumpluff', 'aipom', 'sunkern', 'sunflora', 'yanma', 'wooper', 'quagsire', 'espeon', 'umbreon', 'murkrow', 'slowking', 'misdreavus', 'unown', 'wobbuffet', 'girafarig', 'pineco', 'forretress', 'dunsparce', 'gligar', 'steelix', 'snubbull', 'granbull', 'qwilfish', 'scizor', 'shuckle', 'heracross', 'sneasel', 'teddiursa', 'ursaring', 'slugma', 'magcargo', 'swinub', 'piloswine', 'corsola', 'remoraid', 'octillery', 'delibird', 'mantine', 'skarmory', 'houndour', 'houndoom', 'kingdra', 'phanpy', 'donphan', 'porygon2', 'stantler', 'smeargle', 'tyrogue', 'hitmontop', 'smoochum', 'elekid', 'magby', 'miltank', 'blissey', 'raikou', 'entei', 'suicune', 'larvitar', 'pupitar', 'tyranitar', 'lugia', 'ho-oh', 'celebi', 'treecko', 'grovyle', 'sceptile', 'torchic', 'combusken', 'blaziken', 'mudkip', 'marshtomp', 'swampert', 'poochyena', 'mightyena', 'zigzagoon', 'linoone', 'wurmple', 'silcoon', 'beautifly', 'cascoon', 'dustox', 'lotad', 'lombre', 'ludicolo', 'seedot', 'nuzleaf', 'shiftry', 'taillow', 'swellow', 'wingull', 'pelipper', 'ralts', 'kirlia', 'gardevoir', 'surskit', 'masquerain', 'shroomish', 'breloom', 'slakoth', 'vigoroth', 'slaking', 'nincada', 'ninjask', 'shedinja', 'whismur', 'loudred', 'exploud', 'makuhita', 'hariyama', 'azurill', 'nosepass', 'skitty', 'delcatty', 'sableye', 'mawile', 'aron', 'lairon', 'aggron', 'meditite', 'medicham', 'electrike', 'manectric', 'plusle', 'minun', 'volbeat', 'illumise', 'roselia', 'gulpin', 'swalot', 'carvanha', 'sharpedo', 'wailmer', 'wailord', 'numel', 'camerupt', 'torkoal', 'spoink', 'grumpig', 'spinda', 'trapinch', 'vibrava', 'flygon', 'cacnea', 'cacturne', 'swablu', 'altaria', 'zangoose', 'seviper', 'lunatone', 'solrock', 'barboach', 'whiscash', 'corphish', 'crawdaunt', 'baltoy', 'claydol', 'lileep', 'cradily', 'anorith', 'armaldo', 'feebas', 'milotic', 'castform', 'kecleon', 'shuppet', 'banette', 'duskull', 'dusclops', 'tropius', 'chimecho', 'absol', 'wynaut', 'snorunt', 'glalie', 'spheal', 'sealeo', 'walrein', 'clamperl', 'huntail', 'gorebyss', 'relicanth', 'luvdisc', 'bagon', 'shelgon', 'salamence', 'beldum', 'metang', 'metagross', 'regirock', 'regice', 'registeel', 'latias', 'latios', 'kyogre', 'groudon', 'rayquaza', 'jirachi', 'deoxys-normal', 'turtwig', 'grotle', 'torterra', 'chimchar', 'monferno', 'infernape', 'piplup', 'prinplup', 'empoleon', 'starly', 'staravia', 'staraptor', 'bidoof', 'bibarel', 'kricketot', 'kricketune', 'shinx', 'luxio', 'luxray', 'budew', 'roserade', 'cranidos', 'rampardos', 'shieldon', 'bastiodon', 'burmy', 'wormadam-plant', 'mothim', 'combee', 'vespiquen', 'pachirisu', 'buizel', 'floatzel', 'cherubi', 'cherrim', 'shellos', 'gastrodon', 'ambipom', 'drifloon', 'drifblim', 'buneary', 'lopunny', 'mismagius', 'honchkrow', 'glameow', 'purugly', 'chingling', 'stunky', 'skuntank', 'bronzor', 'bronzong', 'bonsly', 'mime-jr', 'happiny', 'chatot', 'spiritomb', 'gible', 'gabite', 'garchomp', 'munchlax', 'riolu', 'lucario', 'hippopotas', 'hippowdon', 'skorupi', 'drapion', 'croagunk', 'toxicroak', 'carnivine', 'finneon', 'lumineon', 'mantyke', 'snover', 'abomasnow', 'weavile', 'magnezone', 'lickilicky', 'rhyperior', 'tangrowth', 'electivire', 'magmortar', 'togekiss', 'yanmega', 'leafeon', 'glaceon', 'gliscor', 'mamoswine', 'porygon-z', 'gallade', 'probopass', 'dusknoir', 'froslass', 'rotom', 'uxie', 'mesprit', 'azelf', 'dialga', 'palkia', 'heatran', 'regigigas', 'giratina-altered', 'cresselia', 'phione', 'manaphy', 'darkrai', 'shaymin-land', 'arceus', 'victini', 'snivy', 'servine', 'serperior', 'tepig', 'pignite', 'emboar', 'oshawott', 'dewott', 'samurott', 'patrat', 'watchog', 'lillipup', 'herdier', 'stoutland', 'purrloin', 'liepard', 'pansage', 'simisage', 'pansear', 'simisear', 'panpour', 'simipour', 'munna', 'musharna', 'pidove', 'tranquill', 'unfezant', 'blitzle', 'zebstrika', 'roggenrola', 'boldore', 'gigalith', 'woobat', 'swoobat', 'drilbur', 'excadrill', 'audino', 'timburr', 'gurdurr', 'conkeldurr', 'tympole', 'palpitoad', 'seismitoad', 'throh', 'sawk', 'sewaddle', 'swadloon', 'leavanny', 'venipede', 'whirlipede', 'scolipede', 'cottonee', 'whimsicott', 'petilil', 'lilligant', 'basculin-red-striped', 'sandile', 'krokorok', 'krookodile', 'darumaka', 'darmanitan-standard', 'maractus', 'dwebble', 'crustle', 'scraggy', 'scrafty', 'sigilyph', 'yamask', 'cofagrigus', 'tirtouga', 'carracosta', 'archen', 'archeops', 'trubbish', 'garbodor', 'zorua', 'zoroark', 'minccino', 'cinccino', 'gothita', 'gothorita', 'gothitelle', 'solosis', 'duosion', 'reuniclus', 'ducklett', 'swanna', 'vanillite', 'vanillish', 'vanilluxe', 'deerling', 'sawsbuck', 'emolga', 'karrablast', 'escavalier', 'foongus', 'amoonguss', 'frillish', 'jellicent', 'alomomola', 'joltik', 'galvantula', 'ferroseed', 'ferrothorn', 'klink', 'klang', 'klinklang', 'tynamo', 'eelektrik', 'eelektross', 'elgyem', 'beheeyem', 'litwick', 'lampent', 'chandelure', 'axew', 'fraxure', 'haxorus', 'cubchoo', 'beartic', 'cryogonal', 'shelmet', 'accelgor', 'stunfisk', 'mienfoo', 'mienshao', 'druddigon', 'golett', 'golurk', 'pawniard', 'bisharp', 'bouffalant', 'rufflet', 'braviary', 'vullaby', 'mandibuzz', 'heatmor', 'durant', 'deino', 'zweilous', 'hydreigon', 'larvesta', 'volcarona', 'cobalion', 'terrakion', 'virizion', 'tornadus-incarnate', 'thundurus-incarnate', 'reshiram', 'zekrom', 'landorus-incarnate', 'kyurem', 'keldeo-ordinary', 'meloetta-aria', 'genesect', 'chespin', 'quilladin', 'chesnaught', 'fennekin', 'braixen', 'delphox', 'froakie', 'frogadier', 'greninja', 'bunnelby', 'diggersby', 'fletchling', 'fletchinder', 'talonflame', 'scatterbug', 'spewpa', 'vivillon', 'litleo', 'pyroar', 'flabebe', 'floette', 'florges', 'skiddo', 'gogoat', 'pancham', 'pangoro', 'furfrou', 'espurr', 'meowstic-male', 'honedge', 'doublade', 'aegislash-shield', 'spritzee', 'aromatisse', 'swirlix', 'slurpuff', 'inkay', 'malamar', 'binacle', 'barbaracle', 'skrelp', 'dragalge', 'clauncher', 'clawitzer', 'helioptile', 'heliolisk', 'tyrunt', 'tyrantrum', 'amaura', 'aurorus', 'sylveon', 'hawlucha', 'dedenne', 'carbink', 'goomy', 'sliggoo', 'goodra', 'klefki', 'phantump', 'trevenant', 'pumpkaboo-average', 'gourgeist-average', 'bergmite', 'avalugg', 'noibat', 'noivern', 'xerneas', 'yveltal', 'zygarde-50', 'diancie', 'hoopa', 'volcanion', 'rowlet', 'dartrix', 'decidueye', 'litten', 'torracat', 'incineroar', 'popplio', 'brionne', 'primarina', 'pikipek', 'trumbeak', 'toucannon', 'yungoos', 'gumshoos', 'grubbin', 'charjabug', 'vikavolt', 'crabrawler', 'crabominable', 'oricorio-baile', 'cutiefly', 'ribombee', 'rockruff', 'lycanroc-midday', 'wishiwashi-solo', 'mareanie', 'toxapex', 'mudbray', 'mudsdale', 'dewpider', 'araquanid', 'fomantis', 'lurantis', 'morelull', 'shiinotic', 'salandit', 'salazzle', 'stufful', 'bewear', 'bounsweet', 'steenee', 'tsareena', 'comfey', 'oranguru', 'passimian', 'wimpod', 'golisopod', 'sandygast', 'palossand', 'pyukumuku', 'type-null', 'silvally', 'minior-red-meteor', 'komala', 'turtonator', 'togedemaru', 'mimikyu-disguised', 'bruxish', 'drampa', 'dhelmise', 'jangmo-o', 'hakamo-o', 'kommo-o', 'tapu-koko', 'tapu-lele', 'tapu-bulu', 'tapu-fini', 'cosmog', 'cosmoem', 'solgaleo', 'lunala', 'nihilego', 'buzzwole', 'pheromosa', 'xurkitree', 'celesteela', 'kartana', 'guzzlord', 'necrozma', 'magearna', 'marshadow', 'poipole', 'naganadel', 'stakataka', 'blacephalon', 'zeraora', 'meltan', 'melmetal', 'grookey', 'thwackey', 'rillaboom', 'scorbunny', 'raboot', 'cinderace', 'sobble', 'drizzile', 'inteleon', 'skwovet', 'greedent', 'rookidee', 'corvisquire', 'corviknight', 'blipbug', 'dottler', 'orbeetle', 'nickit', 'thievul', 'gossifleur', 'eldegoss', 'wooloo', 'dubwool', 'chewtle', 'drednaw', 'yamper', 'boltund', 'rolycoly', 'carkol', 'coalossal', 'applin', 'flapple', 'appletun', 'silicobra', 'sandaconda', 'cramorant', 'arrokuda', 'barraskewda', 'toxel', 'toxtricity-amped', 'sizzlipede', 'centiskorch', 'clobbopus', 'grapploct', 'sinistea', 'polteageist', 'hatenna', 'hattrem', 'hatterene', 'impidimp', 'morgrem', 'grimmsnarl', 'obstagoon', 'perrserker', 'cursola', 'sirfetchd', 'mr-rime', 'runerigus', 'milcery', 'alcremie', 'falinks', 'pincurchin', 'snom', 'frosmoth', 'stonjourner', 'eiscue-ice', 'indeedee-male', 'morpeko-full-belly', 'cufant', 'copperajah', 'dracozolt', 'arctozolt', 'dracovish', 'arctovish', 'duraludon', 'dreepy', 'drakloak', 'dragapult', 'zacian', 'zamazenta', 'eternatus', 'kubfu', 'urshifu-single-strike', 'zarude', 'regieleki', 'regidrago', 'glastrier', 'spectrier', 'calyrex', 'wyrdeer', 'kleavor', 'ursaluna', 'basculegion-male', 'sneasler', 'overqwil', 'enamorus-incarnate', 'deoxys-attack', 'deoxys-defense', 'deoxys-speed', 'wormadam-sandy', 'wormadam-trash', 'shaymin-sky', 'giratina-origin', 'rotom-heat', 'rotom-wash', 'rotom-frost', 'rotom-fan', 'rotom-mow', 'castform-sunny', 'castform-rainy', 'castform-snowy', 'basculin-blue-striped', 'darmanitan-zen', 'meloetta-pirouette', 'tornadus-therian', 'thundurus-therian', 'landorus-therian', 'kyurem-black', 'kyurem-white', 'keldeo-resolute', 'meowstic-female', 'aegislash-blade', 'pumpkaboo-small', 'pumpkaboo-large', 'pumpkaboo-super', 'gourgeist-small', 'gourgeist-large', 'gourgeist-super', 'venusaur-mega', 'charizard-mega-x', 'charizard-mega-y', 'blastoise-mega', 'alakazam-mega', 'gengar-mega', 'kangaskhan-mega', 'pinsir-mega', 'gyarados-mega', 'aerodactyl-mega', 'mewtwo-mega-x', 'mewtwo-mega-y', 'ampharos-mega', 'scizor-mega', 'heracross-mega', 'houndoom-mega', 'tyranitar-mega', 'blaziken-mega', 'gardevoir-mega', 'mawile-mega', 'aggron-mega', 'medicham-mega', 'manectric-mega', 'banette-mega', 'absol-mega', 'garchomp-mega', 'lucario-mega', 'abomasnow-mega', 'floette-eternal', 'latias-mega', 'latios-mega', 'swampert-mega', 'sceptile-mega', 'sableye-mega', 'altaria-mega', 'gallade-mega', 'audino-mega', 'sharpedo-mega', 'slowbro-mega', 'steelix-mega', 'pidgeot-mega', 'glalie-mega', 'diancie-mega', 'metagross-mega', 'kyogre-primal', 'groudon-primal', 'rayquaza-mega', 'pikachu-rock-star', 'pikachu-belle', 'pikachu-pop-star', 'pikachu-phd', 'pikachu-libre', 'pikachu-cosplay', 'hoopa-unbound', 'camerupt-mega', 'lopunny-mega', 'salamence-mega', 'beedrill-mega', 'rattata-alola', 'raticate-alola', 'raticate-totem-alola', 'pikachu-original-cap', 'pikachu-hoenn-cap', 'pikachu-sinnoh-cap', 'pikachu-unova-cap', 'pikachu-kalos-cap', 'pikachu-alola-cap', 'raichu-alola', 'sandshrew-alola', 'sandslash-alola', 'vulpix-alola', 'ninetales-alola', 'diglett-alola', 'dugtrio-alola', 'meowth-alola', 'persian-alola', 'geodude-alola', 'graveler-alola', 'golem-alola', 'grimer-alola', 'muk-alola', 'exeggutor-alola', 'marowak-alola', 'greninja-battle-bond', 'greninja-ash', 'zygarde-10-power-construct', 'zygarde-50-power-construct', 'zygarde-complete', 'gumshoos-totem', 'vikavolt-totem', 'oricorio-pom-pom', 'oricorio-pau', 'oricorio-sensu', 'lycanroc-midnight', 'wishiwashi-school', 'lurantis-totem', 'salazzle-totem', 'minior-orange-meteor', 'minior-yellow-meteor', 'minior-green-meteor', 'minior-blue-meteor', 'minior-indigo-meteor', 'minior-violet-meteor', 'minior-red', 'minior-orange', 'minior-yellow', 'minior-green', 'minior-blue', 'minior-indigo', 'minior-violet', 'mimikyu-busted', 'mimikyu-totem-disguised', 'mimikyu-totem-busted', 'kommo-o-totem', 'magearna-original', 'pikachu-partner-cap', 'marowak-totem', 'ribombee-totem', 'rockruff-own-tempo', 'lycanroc-dusk', 'araquanid-totem', 'togedemaru-totem', 'necrozma-dusk', 'necrozma-dawn', 'necrozma-ultra', 'pikachu-starter', 'eevee-starter', 'pikachu-world-cap', 'meowth-galar', 'ponyta-galar', 'rapidash-galar', 'slowpoke-galar', 'slowbro-galar', 'farfetchd-galar', 'weezing-galar', 'mr-mime-galar', 'articuno-galar', 'zapdos-galar', 'moltres-galar', 'slowking-galar', 'corsola-galar', 'zigzagoon-galar', 'linoone-galar', 'darumaka-galar', 'darmanitan-galar-standard', 'darmanitan-galar-zen', 'yamask-galar', 'stunfisk-galar', 'zygarde-10', 'cramorant-gulping', 'cramorant-gorging', 'toxtricity-low-key', 'eiscue-noice', 'indeedee-female', 'morpeko-hangry', 'zacian-crowned', 'zamazenta-crowned', 'eternatus-eternamax', 'urshifu-rapid-strike', 'zarude-dada', 'calyrex-ice', 'calyrex-shadow', 'venusaur-gmax', 'charizard-gmax', 'blastoise-gmax', 'butterfree-gmax', 'pikachu-gmax', 'meowth-gmax', 'machamp-gmax', 'gengar-gmax', 'kingler-gmax', 'lapras-gmax', 'eevee-gmax', 'snorlax-gmax', 'garbodor-gmax', 'melmetal-gmax', 'rillaboom-gmax', 'cinderace-gmax', 'inteleon-gmax', 'corviknight-gmax', 'orbeetle-gmax', 'drednaw-gmax', 'coalossal-gmax', 'flapple-gmax', 'appletun-gmax', 'sandaconda-gmax', 'toxtricity-amped-gmax', 'centiskorch-gmax', 'hatterene-gmax', 'grimmsnarl-gmax', 'alcremie-gmax', 'copperajah-gmax', 'duraludon-gmax', 'urshifu-single-strike-gmax', 'urshifu-rapid-strike-gmax', 'toxtricity-low-key-gmax', 'growlithe-hisui', 'arcanine-hisui', 'voltorb-hisui', 'electrode-hisui', 'typhlosion-hisui', 'qwilfish-hisui', 'sneasel-hisui', 'samurott-hisui', 'lilligant-hisui', 'zorua-hisui', 'zoroark-hisui', 'braviary-hisui', 'sliggoo-hisui', 'goodra-hisui', 'avalugg-hisui', 'decidueye-hisui', 'dialga-origin', 'palkia-origin', 'basculin-white-striped', 'basculegion-female', 'enamorus-therian']\n"
          ]
        }
      ]
    },
    {
      "cell_type": "code",
      "source": [
        "#unique characters and count \n",
        "def split(item): \n",
        "  return [char for char in item]\n",
        "chars = []\n",
        "for item in names:\n",
        "  chars += split(item) \n",
        "chars.append(' ')\n",
        "chars = set(chars)\n",
        "vocab_size = len(chars)\n",
        "data_size = sum([len(item) for item in names])\n",
        "\n",
        "print ('Unique characters:', chars)\n",
        "print ('Length of Unique characters:', vocab_size)\n",
        "print ('Number of characters in data:', data_size)"
      ],
      "metadata": {
        "id": "lApkDk_Xz7Hq",
        "colab": {
          "base_uri": "https://localhost:8080/"
        },
        "outputId": "3a57233a-347e-4609-a9ec-07ce3f4b1ddc"
      },
      "execution_count": null,
      "outputs": [
        {
          "output_type": "stream",
          "name": "stdout",
          "text": [
            "Unique characters: {'e', 'f', 'a', 'd', 'k', 'r', 'w', 'p', 's', 'g', 'n', 'l', '2', '0', 'i', 't', 'o', '1', 'y', 'z', '-', 'x', 'u', 'b', ' ', 'j', 'm', 'v', 'q', '5', 'c', 'h'}\n",
            "Length of Unique characters: 32\n",
            "Number of characters in data: 10590\n"
          ]
        }
      ]
    },
    {
      "cell_type": "code",
      "source": [
        "char2id = {ch:i for i, ch in enumerate(chars)}\n",
        "id2char = {i:ch for i, ch in enumerate(chars)}\n",
        "\n",
        "print ('Characters to id\\n')\n",
        "print (char2id)"
      ],
      "metadata": {
        "id": "q7FfjJLrz7Ka",
        "colab": {
          "base_uri": "https://localhost:8080/"
        },
        "outputId": "542e12a7-7ca6-4841-c72b-fb6b1e65d870"
      },
      "execution_count": null,
      "outputs": [
        {
          "output_type": "stream",
          "name": "stdout",
          "text": [
            "Characters to id\n",
            "\n",
            "{'e': 0, 'f': 1, 'a': 2, 'd': 3, 'k': 4, 'r': 5, 'w': 6, 'p': 7, 's': 8, 'g': 9, 'n': 10, 'l': 11, '2': 12, '0': 13, 'i': 14, 't': 15, 'o': 16, '1': 17, 'y': 18, 'z': 19, '-': 20, 'x': 21, 'u': 22, 'b': 23, ' ': 24, 'j': 25, 'm': 26, 'v': 27, 'q': 28, '5': 29, 'c': 30, 'h': 31}\n"
          ]
        }
      ]
    },
    {
      "cell_type": "code",
      "source": [
        "#standardise length of each \"word\"\n",
        "longest = 26\n",
        "augmented = [(split(item) + [' ']*(26 - len(item))) for item in names]\n",
        "words = []\n",
        "nextchars = []\n",
        "\n",
        "for item in augmented: \n",
        "  temp = [char2id[ch] for ch in item]\n",
        "  temp2 = temp[1:]\n",
        "  temp2.append(30)\n",
        "  words.append(temp)\n",
        "  nextchars.append(temp2)\n",
        "\n",
        "print(words[0])\n",
        "print(nextchars[0])"
      ],
      "metadata": {
        "id": "u9-0eelmz7Mu",
        "colab": {
          "base_uri": "https://localhost:8080/"
        },
        "outputId": "ad94bd37-bf9b-47cd-caf7-378f0b442fcc"
      },
      "execution_count": null,
      "outputs": [
        {
          "output_type": "stream",
          "name": "stdout",
          "text": [
            "[23, 22, 11, 23, 2, 8, 2, 22, 5, 24, 24, 24, 24, 24, 24, 24, 24, 24, 24, 24, 24, 24, 24, 24, 24, 24]\n",
            "[22, 11, 23, 2, 8, 2, 22, 5, 24, 24, 24, 24, 24, 24, 24, 24, 24, 24, 24, 24, 24, 24, 24, 24, 24, 30]\n"
          ]
        }
      ]
    },
    {
      "cell_type": "code",
      "source": [
        "def to_categorical(y, num_classes):\n",
        "    \"\"\" 1-hot encodes a tensor \"\"\"\n",
        "    return np.eye(num_classes, dtype='float32')[y]"
      ],
      "metadata": {
        "id": "nzu1ewk8fKfu"
      },
      "execution_count": null,
      "outputs": []
    },
    {
      "cell_type": "code",
      "source": [
        "X = np.zeros((len(words), 26, vocab_size), dtype=np.float32)\n",
        "one_hot = [to_categorical(c, num_classes=vocab_size) for i in range(len(words)) for c in words[i]]\n",
        "X = np.array(one_hot).reshape(X.shape)\n",
        "print (X[0], X.shape)"
      ],
      "metadata": {
        "id": "5fbIolYRz7QN",
        "colab": {
          "base_uri": "https://localhost:8080/"
        },
        "outputId": "7b094e98-4c8f-40e3-bc06-cf50543f56c4"
      },
      "execution_count": null,
      "outputs": [
        {
          "output_type": "stream",
          "name": "stdout",
          "text": [
            "[[0. 0. 0. 0. 0. 0. 0. 0. 0. 0. 0. 0. 0. 0. 0. 0. 0. 0. 0. 0. 0. 0. 0. 1.\n",
            "  0. 0. 0. 0. 0. 0. 0. 0.]\n",
            " [0. 0. 0. 0. 0. 0. 0. 0. 0. 0. 0. 0. 0. 0. 0. 0. 0. 0. 0. 0. 0. 0. 1. 0.\n",
            "  0. 0. 0. 0. 0. 0. 0. 0.]\n",
            " [0. 0. 0. 0. 0. 0. 0. 0. 0. 0. 0. 1. 0. 0. 0. 0. 0. 0. 0. 0. 0. 0. 0. 0.\n",
            "  0. 0. 0. 0. 0. 0. 0. 0.]\n",
            " [0. 0. 0. 0. 0. 0. 0. 0. 0. 0. 0. 0. 0. 0. 0. 0. 0. 0. 0. 0. 0. 0. 0. 1.\n",
            "  0. 0. 0. 0. 0. 0. 0. 0.]\n",
            " [0. 0. 1. 0. 0. 0. 0. 0. 0. 0. 0. 0. 0. 0. 0. 0. 0. 0. 0. 0. 0. 0. 0. 0.\n",
            "  0. 0. 0. 0. 0. 0. 0. 0.]\n",
            " [0. 0. 0. 0. 0. 0. 0. 0. 1. 0. 0. 0. 0. 0. 0. 0. 0. 0. 0. 0. 0. 0. 0. 0.\n",
            "  0. 0. 0. 0. 0. 0. 0. 0.]\n",
            " [0. 0. 1. 0. 0. 0. 0. 0. 0. 0. 0. 0. 0. 0. 0. 0. 0. 0. 0. 0. 0. 0. 0. 0.\n",
            "  0. 0. 0. 0. 0. 0. 0. 0.]\n",
            " [0. 0. 0. 0. 0. 0. 0. 0. 0. 0. 0. 0. 0. 0. 0. 0. 0. 0. 0. 0. 0. 0. 1. 0.\n",
            "  0. 0. 0. 0. 0. 0. 0. 0.]\n",
            " [0. 0. 0. 0. 0. 1. 0. 0. 0. 0. 0. 0. 0. 0. 0. 0. 0. 0. 0. 0. 0. 0. 0. 0.\n",
            "  0. 0. 0. 0. 0. 0. 0. 0.]\n",
            " [0. 0. 0. 0. 0. 0. 0. 0. 0. 0. 0. 0. 0. 0. 0. 0. 0. 0. 0. 0. 0. 0. 0. 0.\n",
            "  1. 0. 0. 0. 0. 0. 0. 0.]\n",
            " [0. 0. 0. 0. 0. 0. 0. 0. 0. 0. 0. 0. 0. 0. 0. 0. 0. 0. 0. 0. 0. 0. 0. 0.\n",
            "  1. 0. 0. 0. 0. 0. 0. 0.]\n",
            " [0. 0. 0. 0. 0. 0. 0. 0. 0. 0. 0. 0. 0. 0. 0. 0. 0. 0. 0. 0. 0. 0. 0. 0.\n",
            "  1. 0. 0. 0. 0. 0. 0. 0.]\n",
            " [0. 0. 0. 0. 0. 0. 0. 0. 0. 0. 0. 0. 0. 0. 0. 0. 0. 0. 0. 0. 0. 0. 0. 0.\n",
            "  1. 0. 0. 0. 0. 0. 0. 0.]\n",
            " [0. 0. 0. 0. 0. 0. 0. 0. 0. 0. 0. 0. 0. 0. 0. 0. 0. 0. 0. 0. 0. 0. 0. 0.\n",
            "  1. 0. 0. 0. 0. 0. 0. 0.]\n",
            " [0. 0. 0. 0. 0. 0. 0. 0. 0. 0. 0. 0. 0. 0. 0. 0. 0. 0. 0. 0. 0. 0. 0. 0.\n",
            "  1. 0. 0. 0. 0. 0. 0. 0.]\n",
            " [0. 0. 0. 0. 0. 0. 0. 0. 0. 0. 0. 0. 0. 0. 0. 0. 0. 0. 0. 0. 0. 0. 0. 0.\n",
            "  1. 0. 0. 0. 0. 0. 0. 0.]\n",
            " [0. 0. 0. 0. 0. 0. 0. 0. 0. 0. 0. 0. 0. 0. 0. 0. 0. 0. 0. 0. 0. 0. 0. 0.\n",
            "  1. 0. 0. 0. 0. 0. 0. 0.]\n",
            " [0. 0. 0. 0. 0. 0. 0. 0. 0. 0. 0. 0. 0. 0. 0. 0. 0. 0. 0. 0. 0. 0. 0. 0.\n",
            "  1. 0. 0. 0. 0. 0. 0. 0.]\n",
            " [0. 0. 0. 0. 0. 0. 0. 0. 0. 0. 0. 0. 0. 0. 0. 0. 0. 0. 0. 0. 0. 0. 0. 0.\n",
            "  1. 0. 0. 0. 0. 0. 0. 0.]\n",
            " [0. 0. 0. 0. 0. 0. 0. 0. 0. 0. 0. 0. 0. 0. 0. 0. 0. 0. 0. 0. 0. 0. 0. 0.\n",
            "  1. 0. 0. 0. 0. 0. 0. 0.]\n",
            " [0. 0. 0. 0. 0. 0. 0. 0. 0. 0. 0. 0. 0. 0. 0. 0. 0. 0. 0. 0. 0. 0. 0. 0.\n",
            "  1. 0. 0. 0. 0. 0. 0. 0.]\n",
            " [0. 0. 0. 0. 0. 0. 0. 0. 0. 0. 0. 0. 0. 0. 0. 0. 0. 0. 0. 0. 0. 0. 0. 0.\n",
            "  1. 0. 0. 0. 0. 0. 0. 0.]\n",
            " [0. 0. 0. 0. 0. 0. 0. 0. 0. 0. 0. 0. 0. 0. 0. 0. 0. 0. 0. 0. 0. 0. 0. 0.\n",
            "  1. 0. 0. 0. 0. 0. 0. 0.]\n",
            " [0. 0. 0. 0. 0. 0. 0. 0. 0. 0. 0. 0. 0. 0. 0. 0. 0. 0. 0. 0. 0. 0. 0. 0.\n",
            "  1. 0. 0. 0. 0. 0. 0. 0.]\n",
            " [0. 0. 0. 0. 0. 0. 0. 0. 0. 0. 0. 0. 0. 0. 0. 0. 0. 0. 0. 0. 0. 0. 0. 0.\n",
            "  1. 0. 0. 0. 0. 0. 0. 0.]\n",
            " [0. 0. 0. 0. 0. 0. 0. 0. 0. 0. 0. 0. 0. 0. 0. 0. 0. 0. 0. 0. 0. 0. 0. 0.\n",
            "  1. 0. 0. 0. 0. 0. 0. 0.]] (1154, 26, 32)\n"
          ]
        }
      ]
    },
    {
      "cell_type": "code",
      "source": [
        "Y = np.zeros((len(nextchars), 26), dtype=np.float32)\n",
        "Y = np.array(nextchars).reshape(Y.shape)\n",
        "print (Y[0], Y.shape)"
      ],
      "metadata": {
        "colab": {
          "base_uri": "https://localhost:8080/"
        },
        "id": "xxOsuqKEkHGT",
        "outputId": "610d9dff-dc81-4375-ef3d-881928825bbe"
      },
      "execution_count": null,
      "outputs": [
        {
          "output_type": "stream",
          "name": "stdout",
          "text": [
            "[22 11 23  2  8  2 22  5 24 24 24 24 24 24 24 24 24 24 24 24 24 24 24 24\n",
            " 24 30] (1154, 26)\n"
          ]
        }
      ]
    },
    {
      "cell_type": "code",
      "source": [
        "train_x, val_x, train_y, val_y = train_test_split(X, Y, test_size=0.05)\n",
        "print ('Training:', train_x.shape, train_y.shape)\n",
        "print ('Validation:', val_x.shape, val_y.shape)"
      ],
      "metadata": {
        "colab": {
          "base_uri": "https://localhost:8080/"
        },
        "id": "SrVTezhlkQQq",
        "outputId": "c79265cd-7a93-4c3d-8114-2c552ee3fce4"
      },
      "execution_count": null,
      "outputs": [
        {
          "output_type": "stream",
          "name": "stdout",
          "text": [
            "Training: (1096, 26, 32) (1096, 26)\n",
            "Validation: (58, 26, 32) (58, 26)\n"
          ]
        }
      ]
    },
    {
      "cell_type": "code",
      "source": [
        "class CharRNN(nn.Module):\n",
        "  \n",
        "    def __init__(self, batch_size=128, n_hidden=512, n_layers=2, drop_prob=0.5):\n",
        "      \n",
        "        super().__init__()\n",
        "        self.drop_prob = drop_prob\n",
        "        self.n_layers = n_layers\n",
        "        self.n_hidden = n_hidden\n",
        "      \n",
        "        self.dropout = nn.Dropout(drop_prob)\n",
        "        self.lstm = nn.LSTM(vocab_size, n_hidden, n_layers, \n",
        "                            dropout=drop_prob, batch_first=True)\n",
        "        self.fc = nn.Linear(n_hidden, vocab_size)\n",
        "        \n",
        "        self.init_weights()\n",
        "\n",
        "    def forward(self, x, hc):\n",
        "        ''' Forward pass through the network '''\n",
        "        \n",
        "        x, (h, c) = self.lstm(x, hc)\n",
        "        x = self.dropout(x)\n",
        "        \n",
        "        # Stack up LSTM outputs\n",
        "        x = x.reshape(x.size()[0]*x.size()[1], self.n_hidden)\n",
        "        \n",
        "        x = self.fc(x)\n",
        "        \n",
        "        return x, (h, c)\n",
        "\n",
        "    def predict(self, char, h=None, top_k=None):\n",
        "        ''' Given a character, predict the next character.\n",
        "        \n",
        "            Returns the predicted character and the hidden state.\n",
        "        '''\n",
        "        \n",
        "        if h is None:\n",
        "            h = self.init_hidden(1)\n",
        "        \n",
        "        x = np.array([[char2id[char]]])\n",
        "        x = to_categorical(x, num_classes=vocab_size)\n",
        "        \n",
        "        with torch.no_grad():\n",
        "            h = tuple([Variable(each.data) for each in h])\n",
        "            inputs = Variable(torch.from_numpy(x))\n",
        "        inputs = inputs.to(device)\n",
        "        \n",
        "        out, h = self.forward(inputs, h)\n",
        "        p = F.softmax(out, dim=1).data\n",
        "        p = p.to(device)\n",
        "        \n",
        "        if top_k is None:\n",
        "            top_ch = np.arange(vocab_size)\n",
        "        else:\n",
        "            p, top_ch = p.topk(top_k)\n",
        "            top_ch = top_ch.cpu().numpy().squeeze()\n",
        "\n",
        "        p = p.cpu().numpy().squeeze()\n",
        "        char = np.random.choice(top_ch, p=p/p.sum())\n",
        "            \n",
        "        return id2char[char], h\n",
        "    \n",
        "    def init_weights(self):\n",
        "        ''' Initialize weights for fully connected layer '''\n",
        "      \n",
        "        # Set bias tensor to all zeros\n",
        "        self.fc.bias.data.fill_(0)\n",
        "        # FC weights as random uniform\n",
        "        self.fc.weight.data.uniform_(-1, 1)\n",
        "        \n",
        "    def init_hidden(self, batch_size):\n",
        "        ''' Initializes hidden state '''\n",
        "        # Create two new tensors with sizes n_layers x n_seqs x n_hidden,\n",
        "        # initialized to zero, for hidden state and cell state of LSTM\n",
        "        weight = next(self.parameters()).data\n",
        "        return (Variable(weight.new(self.n_layers, batch_size, self.n_hidden).zero_()),\n",
        "                Variable(weight.new(self.n_layers, batch_size, self.n_hidden).zero_()))\n",
        "    "
      ],
      "metadata": {
        "id": "fIzsr9FLkea2"
      },
      "execution_count": null,
      "outputs": []
    },
    {
      "cell_type": "code",
      "source": [
        "net = CharRNN(n_hidden=512, n_layers=2)\n",
        "net.to(device)"
      ],
      "metadata": {
        "colab": {
          "base_uri": "https://localhost:8080/"
        },
        "id": "tzo_8rLYnxVG",
        "outputId": "ec7b85cb-39c6-4ee8-f97c-acb06346c3b8"
      },
      "execution_count": null,
      "outputs": [
        {
          "output_type": "execute_result",
          "data": {
            "text/plain": [
              "CharRNN(\n",
              "  (dropout): Dropout(p=0.5, inplace=False)\n",
              "  (lstm): LSTM(32, 512, num_layers=2, batch_first=True, dropout=0.5)\n",
              "  (fc): Linear(in_features=512, out_features=32, bias=True)\n",
              ")"
            ]
          },
          "metadata": {},
          "execution_count": 47
        }
      ]
    },
    {
      "cell_type": "code",
      "source": [
        "opt = torch.optim.Adam(net.parameters(), lr=0.001)\n",
        "criterion = nn.CrossEntropyLoss()"
      ],
      "metadata": {
        "id": "yru2nWv3nxvQ"
      },
      "execution_count": null,
      "outputs": []
    },
    {
      "cell_type": "code",
      "source": [
        "def train(net, train_x, train_y, val_x, val_y, opt, criterion, epochs=25, batch_size=128, maxlen=26, clip=5, print_every=10):\n",
        "    \n",
        "    net.train()\n",
        "    counter = 0\n",
        "    \n",
        "    for e in range(epochs):\n",
        "        \n",
        "        h = net.init_hidden(batch_size)\n",
        "        \n",
        "        for k in range(0, train_x.shape[0]-batch_size, batch_size):\n",
        "            \n",
        "            counter += 1\n",
        "            # batch data and convert to torch tensors\n",
        "            x, y = train_x[k : k+batch_size], train_y[k : k+batch_size]\n",
        "            x, y = torch.from_numpy(x), torch.from_numpy(y)\n",
        "            \n",
        "            \n",
        "            inputs, targets = Variable(x), Variable(y)\n",
        "            inputs, targets = inputs.to(device), targets.to(device)\n",
        "            #print (counter, inputs.shape, targets.shape)\n",
        "            \n",
        "            # Creating new variables for the hidden state, otherwise\n",
        "            # we'd backprop through the entire training history\n",
        "            h = tuple([Variable(each.data) for each in h])\n",
        "\n",
        "            net.zero_grad()\n",
        "            output, h = net.forward(inputs, h)\n",
        "            loss = criterion(output, targets.view(batch_size*maxlen))\n",
        "            loss.backward()\n",
        "            \n",
        "            # `clip_grad_norm` helps prevent the exploding gradient problem in RNNs / LSTMs.\n",
        "            nn.utils.clip_grad_norm_(net.parameters(), clip)\n",
        "\n",
        "            opt.step()\n",
        "            \n",
        "            if counter % print_every == 0:\n",
        "                \n",
        "                # Get validation loss\n",
        "                val_h = net.init_hidden(batch_size)\n",
        "                val_losses = []\n",
        "                \n",
        "                for k in range(0, val_x.shape[0]-batch_size, batch_size):\n",
        "                  \n",
        "                    # One-hot encode our data and make them Torch tensors\n",
        "                    x, y = val_x[k : k+batch_size], val_y[k : k+batch_size]\n",
        "                    x, y = torch.from_numpy(x), torch.from_numpy(y)\n",
        "            \n",
        "                    \n",
        "                    # Creating new variables for the hidden state, otherwise\n",
        "                    # we'd backprop through the entire training history\n",
        "                    with torch.no_grad():\n",
        "                        val_h = tuple([Variable(each.data) for each in val_h])\n",
        "                        inputs, targets = Variable(x), Variable(y)\n",
        "                    \n",
        "                    inputs, targets = inputs.to(device), targets.to(device)\n",
        "\n",
        "                    output, val_h = net.forward(inputs, val_h)\n",
        "                    val_loss = criterion(output, targets.view(batch_size*maxlen))\n",
        "                \n",
        "                    val_losses.append(val_loss.item())\n",
        "                \n",
        "                print(\"Epoch: {}/{}...\".format(e+1, epochs),\n",
        "                      \"Step: {}...\".format(counter),\n",
        "                      \"Loss: {:.4f}...\".format(loss.item()),\n",
        "                      \"Val Loss: {:.4f}\".format(np.mean(val_losses)))"
      ],
      "metadata": {
        "id": "pjYeM5D8ny_p"
      },
      "execution_count": null,
      "outputs": []
    },
    {
      "cell_type": "code",
      "source": [
        "train(net, train_x, train_y, val_x, val_y, opt=opt, criterion=criterion, epochs=25,\n",
        "      batch_size=128, maxlen=26, clip=5, print_every=10)"
      ],
      "metadata": {
        "colab": {
          "base_uri": "https://localhost:8080/"
        },
        "id": "tW9orxpsn4hI",
        "outputId": "cbf23b90-e6ae-4243-fe05-7cfb0ee256d2"
      },
      "execution_count": null,
      "outputs": [
        {
          "output_type": "stream",
          "name": "stdout",
          "text": [
            "Epoch: 2/25... Step: 10... Loss: 1.6169... Val Loss: nan\n",
            "Epoch: 3/25... Step: 20... Loss: 1.3799... Val Loss: nan\n",
            "Epoch: 4/25... Step: 30... Loss: 1.2300... Val Loss: nan\n",
            "Epoch: 5/25... Step: 40... Loss: 1.3372... Val Loss: nan\n",
            "Epoch: 7/25... Step: 50... Loss: 1.3525... Val Loss: nan\n",
            "Epoch: 8/25... Step: 60... Loss: 1.2412... Val Loss: nan\n",
            "Epoch: 9/25... Step: 70... Loss: 1.1364... Val Loss: nan\n",
            "Epoch: 10/25... Step: 80... Loss: 1.1500... Val Loss: nan\n",
            "Epoch: 12/25... Step: 90... Loss: 1.3410... Val Loss: nan\n",
            "Epoch: 13/25... Step: 100... Loss: 1.1709... Val Loss: nan\n",
            "Epoch: 14/25... Step: 110... Loss: 1.0779... Val Loss: nan\n",
            "Epoch: 15/25... Step: 120... Loss: 1.0857... Val Loss: nan\n",
            "Epoch: 17/25... Step: 130... Loss: 1.1907... Val Loss: nan\n",
            "Epoch: 18/25... Step: 140... Loss: 1.0924... Val Loss: nan\n",
            "Epoch: 19/25... Step: 150... Loss: 1.0751... Val Loss: nan\n",
            "Epoch: 20/25... Step: 160... Loss: 1.0419... Val Loss: nan\n",
            "Epoch: 22/25... Step: 170... Loss: 1.1378... Val Loss: nan\n",
            "Epoch: 23/25... Step: 180... Loss: 1.0562... Val Loss: nan\n",
            "Epoch: 24/25... Step: 190... Loss: 1.0017... Val Loss: nan\n",
            "Epoch: 25/25... Step: 200... Loss: 1.0207... Val Loss: nan\n"
          ]
        }
      ]
    },
    {
      "cell_type": "code",
      "source": [
        "def sample(net, size, prime=\"a\", top_k=None):\n",
        "  net.eval()\n",
        "  chars = [ch for ch in prime]\n",
        "  h = net.init_hidden(1)\n",
        "  for ch in prime: \n",
        "    char, h = net.predict(ch, h, top_k=top_k)\n",
        "  chars.append(char)\n",
        "\n",
        "  for i in range(size):\n",
        "    char, h = net.predict(chars[-1], h, top_k=top_k)\n",
        "    chars.append(char)\n",
        "  \n",
        "  return ''.join(chars)"
      ],
      "metadata": {
        "id": "1rgfUf-r8pRD"
      },
      "execution_count": null,
      "outputs": []
    },
    {
      "cell_type": "code",
      "source": [
        "print(sample(net, 8, prime=\"sh\", top_k=5))"
      ],
      "metadata": {
        "colab": {
          "base_uri": "https://localhost:8080/"
        },
        "id": "D4i7xH9b9JYM",
        "outputId": "0c5e1dbc-a043-47e1-a2c9-1d417030fbcc"
      },
      "execution_count": null,
      "outputs": [
        {
          "output_type": "stream",
          "name": "stdout",
          "text": [
            "sheranat   \n"
          ]
        }
      ]
    },
    {
      "cell_type": "code",
      "source": [
        "torch.save(net, '/content/poke_name_gen.pt')"
      ],
      "metadata": {
        "id": "8VUuJS1V_MfF"
      },
      "execution_count": null,
      "outputs": []
    }
  ]
}